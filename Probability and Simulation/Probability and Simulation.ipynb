{
 "cells": [
  {
   "cell_type": "markdown",
   "metadata": {},
   "source": [
    "<a id='top'></a>\n",
    "\n",
    "### Probability and Simulation\n",
    "***\n",
    "\n",
    "Andrew Hahn\n",
    "\n",
    "***\n",
    "\n"
   ]
  },
  {
   "cell_type": "code",
   "execution_count": 25,
   "metadata": {},
   "outputs": [],
   "source": [
    "import pandas as pd\n",
    "import numpy as np\n",
    "import matplotlib.pylab as plt\n",
    "%matplotlib inline\n",
    "import random"
   ]
  },
  {
   "cell_type": "markdown",
   "metadata": {},
   "source": [
    "***\n",
    "\n",
    "\n",
    "****\n",
    "\n",
    "To play a game, you have a bag containing 30 fair six-sided dice, with faces `{1,2,3,4,5,6}`.  <img style=\"float: right; width: 200px; padding: 3mm;\" src=\"https://images-na.ssl-images-amazon.com/images/I/619NZnvxJaL._SX425_.jpg\" alt=\"Drawing\"/>\n",
    "This bag also contains 17 fair eight-sided dice (faces `{1,2,3,4,5,6,7,8}`) and 3 fair twenty-sided dice (faces `{1,2,3,4,...,19,20}`).  Call these 3 classes of die \"Six\", \"Eight\" and \"Twenty\" (or S, E, and T, for short). In order to be sure that you are not distinguishing dice by their feel, you are required to wear crab claw gloves. After donning your gloves, you grab one die at random from the bag. \n",
    "\n",
    "Work the following problems by hand (or claw) unless otherwise stated (but don't be afraid to simulate to check your result!). "
   ]
  },
  {
   "cell_type": "markdown",
   "metadata": {},
   "source": [
    "**Part A**: You roll your die one time.  What is the probability of the event $R_7$, that you roll a 7?  Include at least 4 decimal places in your answer."
   ]
  },
  {
   "cell_type": "raw",
   "metadata": {},
   "source": [
    "Using the law of total probalility: \n",
    "Probablility of selecting 6 sided die: 30/50 \n",
    "Probablility of selecting 6 sided die: 17/50 \n",
    "Probablility of selecting 6 sided die: 3/50 \n",
    "Probablility of 7 on 6 sided die: 0 \n",
    "Probablility of 7 on 8 sided die: 1/8 \n",
    "Probablility of 7 on 20 sided die: 1/20 \n",
    "Total Probability of a 7: (30/50)*(0)+(17/50)*(1/8)+(3/50)*(1/20) \n",
    "Total Probablity: .34*.125+.06*.05 ==.0425 +.003= 0.0455\n"
   ]
  },
  {
   "cell_type": "markdown",
   "metadata": {},
   "source": [
    "**Part B**: Suppose you roll a 7.  What is the probability that the die you chose from the bag is an Eight-sided die? "
   ]
  },
  {
   "cell_type": "raw",
   "metadata": {},
   "source": [
    "Using Bayes Theorem: \n",
    "Probaliblity of 8 sided die given 7: (Prob of 7|8 * Prob of 8)/Prob of 7\n",
    "Probalility of 7 given 8 sided die: 1/8\n",
    "Probabliity of 8 sided die: 17/50\n",
    "Probablility of 7 overall: 0.0455\n",
    "Total Probablility: (1/8*17/50)/0.0455\n",
    "Total Probability: 0.9340"
   ]
  },
  {
   "cell_type": "markdown",
   "metadata": {},
   "source": [
    "**Part C:**  Are the events $R_7$ and $E$ independent?  Justify your answer **using math**."
   ]
  },
  {
   "cell_type": "raw",
   "metadata": {},
   "source": [
    "Does P(R7|E)=P(E), if yes they are independent\n",
    "Probability of rolling an 8 sided die=0.34\n",
    "P(R7|E)=.9340\n",
    "Therefore the events of selecting an eight sided die and rolling a 7 are not independent."
   ]
  },
  {
   "cell_type": "markdown",
   "metadata": {},
   "source": [
    "**Part D:**  Suppose you roll your die $n$ times and record each outcome.  Obviously, if you roll 7 or 8 you know you did *not* pick a Six-sided die, and if you roll a 9 or higher, you must have picked a Twenty-sided die.\n",
    "\n",
    "But, if you roll $n$ times in a row and get only 1, 2, 3, 4, 5, or 6 you would have a stronger belief that you in fact grabbed one of the Six-sided dice.  Let $L_n$ be the event that you roll $n$ rolls of 1, 2, 3, 4, 5, or 6 in a row.  For example, one outcome in $L_3$ is the sequence 2, 3, 1.\n",
    "\n",
    "Given that you roll a single value of 1, 2, 3, 4, 5, or 6, what is the probability that you have grabbed a Six-sided die?  That is, calculate **by hand** $P(S \\mid L_1)$."
   ]
  },
  {
   "cell_type": "raw",
   "metadata": {},
   "source": [
    "P(S | L1): P(L1|S)*P(S)/P(L1)\n",
    "P(S)=30/50\n",
    "P(L1): \n",
    "Using Law of Total Probablility P(L1)=P(1)+P(2)+P(3)+P(4)+P(5)+P(6)\n",
    "Events P(1)-P(6) are all equally likely, as they are included in all the same sets at the same frequencies, so\n",
    "P(L1)=6*(P(1))\n",
    "P(1)=(1/6*30/50)+(1/8)*(17/50)+(1/20*3/50) = 0.1455\n",
    "P(L1)=6*0.1455=0.873\n",
    "P(L1|S)=1 as you will always roll 1-6 on a six sided die\n",
    "Therefore P(S | L1)= (1*30/50)/(0.1455)= 0.6872"
   ]
  },
  {
   "cell_type": "markdown",
   "metadata": {},
   "source": [
    "**Part E**:  \n",
    "\n",
    "First, work out **by hand** a formula for the probability in general that you are rolling a Six-sided die, given that you have rolled $n$ values in a row that are 1, 2, 3, 4, 5 or 6 (that is, $L_n$).  So you want a formula for $P(S \\mid L_n)$ in terms of $n$.\n",
    "\n",
    "Then, define a function `prob_six` to calculate $P(S \\mid L_n)$.  This function should only take one positive integer argument, $n$.\n",
    "\n",
    "Verify that your function is performing as expected by checking your answer to **Part D**."
   ]
  },
  {
   "cell_type": "raw",
   "metadata": {},
   "source": [
    "P(S|Ln)=(P(Ln|S)*(P(s))/P(Ln)\n",
    "Use law of total probablity to get P(Ln):\n",
    "P(Ln)=P(Ln|S)*P(S)+P(Ln|E)*P(E)+P(Ln|T)*P(T)\n",
    "P(Ln)=P(Ln|S)*30/50+P(Ln|E)*17/50+P(Ln|T)*3/50\n",
    "P(Ln|S)=1\n",
    "P(Ln|E)=(6/8)^n\n",
    "P(Ln|T)=(6/20)^n\n",
    "P(Ln)=(30/50)+((6/8)^n)*17/50)+((6/20)^n)*3/50)\n",
    "P(S|Ln)=(1*30/50)/((30/50)+((6/8)^n)*17/50)+((6/20)^n)*3/50))"
   ]
  },
  {
   "cell_type": "code",
   "execution_count": 26,
   "metadata": {},
   "outputs": [
    {
     "name": "stdout",
     "output_type": "stream",
     "text": [
      "Verify this is the same as part D: 0.6872852233676976\n"
     ]
    }
   ],
   "source": [
    "def prob_six(n): #Your code goes here.\n",
    "    return 0.6/(0.6 + 0.34*((.75)**n) + 0.06*(.3**n))\n",
    "PartDCheck=prob_six(1)\n",
    "print(\"Verify this is the same as part D: \"+str(PartDCheck))"
   ]
  },
  {
   "cell_type": "markdown",
   "metadata": {},
   "source": [
    "**Part F:**  What is the smallest value of $n$ successive rolls of 1, 2, 3, 4, 5 or 6 that would make you believe that there's a better-than-95% chance that the die you grabbed is Six-sided?  Plugging larger and larger values for $n$ into your `prob_six` function is a very reasonable way to check this."
   ]
  },
  {
   "cell_type": "code",
   "execution_count": 27,
   "metadata": {},
   "outputs": [
    {
     "name": "stdout",
     "output_type": "stream",
     "text": [
      "10 Rolls Required\n"
     ]
    }
   ],
   "source": [
    "inN=1\n",
    "prob=0\n",
    "while prob <.95:\n",
    "    prob=prob_six(inN)\n",
    "    inN+=1\n",
    "print(str(inN)+ \" Rolls Required\")"
   ]
  },
  {
   "cell_type": "markdown",
   "metadata": {},
   "source": [
    "***\n",
    "\n",
    "Oscar and Stella are two octopuses who are very excited to have both secured professorships in the Computer Science department at CU. They work hard, but they also like to blow off a little steam after work. When they leave work from the CU Engineering Center ($E~$), they each head for one of five other locations: the Gym to get strong ($G~$), the Library to get learned ($L~$), the Boulder Reservoir to have a nice swim ($R$), the Hill to have a sandwich ($H~$), or to Brewing Market to have a nice Coffee ($C~$).  \n",
    "\n",
    "Here are some rules governing their movements throughout the fair city of Boulder:\n",
    "* When Oscar and/or Stella is leaving one location, they randomly select one of the available adjacent locations, with equal probability.\n",
    "* This includes back-tracking. Eg. Stella could go from the Engineering Center to the Library, then directly back to the Engineering Center. \n",
    "* Assume that all moves require the same amount of time.\n",
    "* They are also not allowed to stay put; they always must move to some *other* adjacent location.\n",
    "* Oscar and Stella, being the think-for-yourselfers that they are, also act **independently** of one another. That is, the probability that Oscar goes from one place to another is independent of the probability of Stella's movements.\n",
    "\n",
    "<img src=\"http://www.cs.colorado.edu/~tonyewong/home/resources/chris_and_dan_statespace.png\" style=\"width: 300px;\"/>"
   ]
  },
  {
   "cell_type": "markdown",
   "metadata": {},
   "source": [
    "**Part A**: Oscar is exhausted from a long day of researching whether [P=NP](https://en.wikipedia.org/wiki/P_versus_NP_problem) so, naturally, he wants to go to the brewing market to grab a coffee. That being said, Osacar has made a break through in his research and wants to follow up on it at the library, but he needs to run some errands too. Assume Oscar can do his errands at any location on the map. \n",
    "\n",
    "Compute by hand the probability that Oscar goes to the Brewing Market ($C$) in his first stop, makes a second stop at any location, then goes to the Library ($L$) third. "
   ]
  },
  {
   "cell_type": "raw",
   "metadata": {},
   "source": [
    "Starting at node E, there are four choices, and one choice that meets the condition, so the probablility of the right choice here is 1/4\n",
    "From node C, there are three choices, but moving to L rules out the third condition, so the probability of the right choice here is 2/3\n",
    "From node H there is a 1/3 chance of moving to L, and from node E there is a 1/4 chance of moving to L. Each node is equally likely\n",
    "So on the third step the probability of going to the right choice is (1/3*1/2)+(1/4*1/2)= 7/24\n",
    "Probability of making the correct choice in the right order= 1/4*2/3*7/24 = 0.04861"
   ]
  },
  {
   "cell_type": "markdown",
   "metadata": {},
   "source": [
    "**Part B**: Stella is a competitive body-building octopus professor. This is quite the feat given her lack of bones!  Compute (by hand) the probability that Stella ends up at the Gym _either_ as her first _or_ second location visited after leaving the Engineering Center ($E$). (Again, assume that Stella wanders the streets of Boulder randomly using the same rules described above.)"
   ]
  },
  {
   "cell_type": "raw",
   "metadata": {},
   "source": [
    "Probability of G as first location:1/4\n",
    "Probability of G as second location:\n",
    "    Probability of R: 1/4\n",
    "    Probability of G given R: 1/2\n",
    "    Probability of L:1/4\n",
    "    Probability of G given L: 1/4\n",
    "    Probability of C:1/4\n",
    "    Probability of G given C:0\n",
    "Total probability of G: 1/4+(1/4*1/2)+(1/4*1/4)+(1/4*0)=.4375"
   ]
  },
  {
   "cell_type": "markdown",
   "metadata": {},
   "source": [
    "**Part C**: Suppose that Stella works late at the Engineering Center, while Oscar goes to the Gym.  Later, they both leave and wander around, randomly and independently of one another, as described above.\n",
    "1. What is the probability that they run into each other in the same location on the first location visited?  \n",
    "2. Given their two initial locations, what is the probability that they meet at the Hill after 2 moves?"
   ]
  },
  {
   "cell_type": "raw",
   "metadata": {},
   "source": [
    "1.\n",
    "Probability of L given G: 1/4\n",
    "Probability of R given G: 1/4\n",
    "Probability of L given E: 1/4\n",
    "Probability of R given E: 1/4\n",
    "Probability of both going to L: 1/4*1/4=1/16\n",
    "Probability of both going to R: 1/4*1/4=1/16\n",
    "Total probability of going to the same location=1/12+1/12=1/8\n",
    "2.\n",
    "Probability of ~(H or R or E) given G: 1/4\n",
    "Probability of L given G: 1/4\n",
    "Probability of ~(R) given E: 3/4\n",
    "Probability of G given E:1/4\n",
    "Probability of G given L:1/4\n",
    "Probability of G given C:1/4\n",
    "\n",
    "Probability of H for Oscar on second turn: 1/4*1/4 =1/16\n",
    "Probability of H for Stella on second turn:\n",
    "    Probability of H given G:1/4\n",
    "    Probability of H Given L:1/4\n",
    "    Probability of H given C:1/3\n",
    "    \n",
    "    Total Probability of H for Stella on second turn: 2(1/4*1/4)+(1/4*1/3)=0.20833333333\n",
    "    \n",
    "Total probability of both Oscar and Stella on H on second turn: 1/16*0.20833333333= 0.01302"
   ]
  },
  {
   "cell_type": "markdown",
   "metadata": {},
   "source": [
    "**Part D**: Write a simulation to confirm that your by-hand calculations in **Part A**, **Part B**, and **Part C** are correct. Make sure you run your simulations for enough trials that your estimates are reasonably close to your analytic results. In addition to showing your code, you should explain in Markdown (not just in code comments) what your code is doing and why it is a reasonable approximation of the probabilities in **Part A**, **Part B**, and **Part C**.  "
   ]
  },
  {
   "cell_type": "code",
   "execution_count": 28,
   "metadata": {},
   "outputs": [
    {
     "name": "stdout",
     "output_type": "stream",
     "text": [
      "Probability of A after 10000 iterations: 0.0469\n"
     ]
    }
   ],
   "source": [
    "graph = { \"E\" : [\"R\",\"G\",\"L\",\"C\"],\n",
    "          \"L\" : [\"H\", \"E\",\"C\",\"G\"],\n",
    "          \"H\" : [\"G\", \"L\", \"C\"],\n",
    "          \"C\" : [\"H\",\"L\",\"E\"],\n",
    "          \"G\" : [\"R\", \"E\",\"L\",\"H\"],\n",
    "          \"R\" : [\"G\",\"E\"]\n",
    "        }\n",
    "\n",
    "def walk(initial,steps,graph):\n",
    "    stepsTaken=[]\n",
    "    for x in range(steps):\n",
    "        location=random.choice(graph[initial])\n",
    "        initial=location\n",
    "        stepsTaken.append(location)\n",
    "    return stepsTaken\n",
    "\n",
    "probArray=[]\n",
    "for i in range(0,10000):\n",
    "    steps=walk(\"E\",3,graph)\n",
    "    if steps==[\"C\",\"H\",\"L\"]:\n",
    "        probArray.append(1)\n",
    "    elif steps==[\"C\",\"E\",\"L\"]:\n",
    "        probArray.append(1)\n",
    "    else:\n",
    "        probArray.append(0)\n",
    "    steps=[]\n",
    "probabilityA=np.mean(probArray)\n",
    "print(\"Probability of A after 10000 iterations: \"+str(probabilityA))\n",
    "    "
   ]
  },
  {
   "cell_type": "markdown",
   "metadata": {},
   "source": []
  },
  {
   "cell_type": "code",
   "execution_count": 29,
   "metadata": {},
   "outputs": [
    {
     "name": "stdout",
     "output_type": "stream",
     "text": [
      "Probability of B after 10000 iterations: 0.4193\n"
     ]
    }
   ],
   "source": [
    "# Part B\n",
    "probArray2=[]\n",
    "probArray5=[]\n",
    "for i in range(0,10000):\n",
    "    oneStepTaken=walk(\"E\",1,graph)\n",
    "    if oneStepTaken[0]==\"G\":\n",
    "        probArray2.append(1)\n",
    "    else:\n",
    "        probArray2.append(0)\n",
    "    oneStepTaken=[]\n",
    "    \n",
    "for i in range(0,10000):\n",
    "    twoStepsTaken=walk(\"E\",2,graph)\n",
    "    if twoStepsTaken[1]==\"G\":\n",
    "        probArray5.append(1)\n",
    "    else:\n",
    "        probArray5.append(0)\n",
    "\n",
    "probFirst=np.mean(probArray2)\n",
    "probSecond=np.mean(probArray5)\n",
    "probabilityB=probFirst+probSecond\n",
    "print(\"Probability of B after 10000 iterations: \"+str(probabilityB))"
   ]
  },
  {
   "cell_type": "markdown",
   "metadata": {},
   "source": []
  },
  {
   "cell_type": "code",
   "execution_count": 30,
   "metadata": {},
   "outputs": [
    {
     "name": "stdout",
     "output_type": "stream",
     "text": [
      "Probability of C1 after 10000 iterations: 0.12551\n",
      "Probability of C2 after 10000 iterations: 0.01299\n"
     ]
    }
   ],
   "source": [
    "# Part C\n",
    "probArray3=[]\n",
    "for i in range(0,100000):\n",
    "    stepStella=walk(\"E\",1,graph)\n",
    "    stepOscar=walk(\"G\",1,graph)\n",
    "    if stepStella==stepOscar:\n",
    "        probArray3.append(1)\n",
    "    else:\n",
    "        probArray3.append(0)  \n",
    "    steps=[]\n",
    "probabilityC1=np.mean(probArray3)\n",
    "print(\"Probability of C1 after 10000 iterations: \"+str(probabilityC1))\n",
    "\n",
    "probArray4=[]\n",
    "for i in range(0,100000):\n",
    "    stepsStella=walk(\"E\",2,graph)\n",
    "    stepsOscar=walk(\"G\",2,graph)\n",
    "    if stepsStella[1]==\"H\"==stepsOscar[1]:\n",
    "        probArray4.append(1)\n",
    "    else:\n",
    "        probArray4.append(0)\n",
    "    steps=[]\n",
    "probabilityC2=np.mean(probArray4)\n",
    "print(\"Probability of C2 after 10000 iterations: \"+str(probabilityC2))"
   ]
  },
  {
   "cell_type": "markdown",
   "metadata": {},
   "source": []
  },
  {
   "cell_type": "markdown",
   "metadata": {},
   "source": [
    "***\n",
    "\n",
    "As part of their Computer Science Jedi training, Zach and Rachel are having a lightsaber duel. The rules of the lightsaber duel are as follows:\n",
    "* The duel is composed of a number of rounds.\n",
    "* Each round consists of Zach practicing his sweetest Jedi moves and trying to strike Rachel, then Rachel practicing *her* best moves and trying to strike Zach.\n",
    "* If Zach manages to strike Rachel, then Zach is awarded a point, and similarly if Rachel manages to strike Zach, then Rachel is awarded a point.\n",
    "* If a round ends in a tie, then Zach and Rachel proceed to another round. If a round ends with one Jedi scoring a point but the other one does not, then the Jedi who scored a point wins the duel.\n",
    "\n",
    "Let $Z$ be the event that \"Zach wins the duel\", $E$ be the event that \"the duel ends after the first round of lightsaber strikes\", and $C$ be the event that \"the duel continues after the first round of lightsaber strikes\".  Suppose that the result of one lightsaber strike is independent of the other strikes, Zach successfully lands his lightsaber strikes with probability $p$, and Rachel lands her strikes with probability $q$.\n",
    "\n",
    "**Part A**: The duel will continue until Zach or Rachel wins.  What is the sample space $\\Omega$ for this \"experiment\"?  Represent the outcomes of individual lightsaber strikes by $H$ for a hit and $M$ for a miss, and assume that Zach has the first strike in each round. At the very least, your answer should include all of the events in $\\Omega$ that include one or two rounds."
   ]
  },
  {
   "cell_type": "raw",
   "metadata": {},
   "source": [
    "Possible outcomes:\n",
    "Assuming that at most 1 point can be scored per Jedi per round:\n",
    "    HM,MH,MM,HHHM,HHMH,MMHM,MMMH, and so on for perumations of MM... and HH..."
   ]
  },
  {
   "cell_type": "markdown",
   "metadata": {},
   "source": [
    "**Part B**: Determine $P(Z \\mid E)$ in terms of $p$ and $q$."
   ]
  },
  {
   "cell_type": "raw",
   "metadata": {},
   "source": [
    "P(Z|E)=P(Z and E)/(P(E))\n",
    "=P(HM)/P(HM,MH)\n",
    "=p(~q)/(p(~q)+q(~p))\n",
    "=p(1-q)/(p+q-2pq)"
   ]
  },
  {
   "cell_type": "markdown",
   "metadata": {},
   "source": [
    "**Part C**: Explain why events $C$ and $Z$ are independent. "
   ]
  },
  {
   "cell_type": "raw",
   "metadata": {},
   "source": [
    "Events C and Z are independent because:\n",
    "P(Z|C)=P(Z)\n",
    "This is because the probability of Zach winning given the round continues doesn't change because we are told to assume that the result of one lightsaber strike is independent of the other strikes, this means the outcome of the past round cannot impact of future rounds."
   ]
  },
  {
   "cell_type": "markdown",
   "metadata": {},
   "source": [
    "**Part D**: Use the Law of Total Probability to show that $P(Z) = p(1-q) + (2pq - p - q +1) ~P(Z \\mid C)$. "
   ]
  },
  {
   "cell_type": "raw",
   "metadata": {},
   "source": [
    "P(Z)= Probabilty Zach hits and Rachel misses + Probability that they both hit and Zach wins in a future round+ Probability they both miss and zach wins in a future round.\n",
    "P Zach hits and rachel misses on any round=p*~q\n",
    "P They both hit: p*q\n",
    "P They both miss:~p*~q\n",
    "~p=(1-p)\n",
    "~q=(1-q)\n",
    "P(Z)=P(Z|E)*(P(E))+P(Z|C)*(P(C)\n",
    "P(Z|E)=p(1-q)/(p+q-2pq)\n",
    "P(E)=p*(1-p)+q*(1-p)\n",
    "P(C)=p*q+(1-p)*(1-q)\n",
    "P(Z)=(p(1-q)/(p+q-2pq))*(p*(1-p)+q*(1-p))+P(Z|C)(2pq-p-q+1)\n",
    "𝑃(𝑍)=𝑝(1−𝑞)+(2𝑝𝑞−𝑝−𝑞+1)*𝑃(𝑍∣𝐶)"
   ]
  },
  {
   "cell_type": "markdown",
   "metadata": {},
   "source": [
    "**Part E**: Use the fact from **Part B** (Did it mean C?) that $P(Z \\mid C) = P(Z)$ to determine $P(Z)$ in terms of $p$ and $q$."
   ]
  },
  {
   "cell_type": "raw",
   "metadata": {},
   "source": [
    "Solve the following alegebraically:\n",
    "    1.𝑃(𝑍)=𝑝(1−𝑞)+(2𝑝𝑞−𝑝−𝑞+1) 𝑃(𝑍∣𝐶)\n",
    "    2.𝑃(𝑍)=𝑝(1−𝑞)+(2𝑝𝑞−𝑝−𝑞+1) 𝑃(𝑍)\n",
    "    3.(1-2pq+p+q-1)P(Z)=p(1-q)\n",
    "    4.P(Z)=(p(1-q))/(1-2pq+p+q-1)"
   ]
  },
  {
   "cell_type": "markdown",
   "metadata": {},
   "source": [
    "**Part F**: Explain why the answers to **Part B** and **Part E** are the same. "
   ]
  },
  {
   "cell_type": "markdown",
   "metadata": {},
   "source": [
    "The duel that happens after a round with no winner is no different than the first round of a new duel. This is because the result of one lightsaber strike is independent of the other strikes, including those in other rounds. Therefore the probability Zach wins at any point in the series of rounds is equal to the probability that he wins in just one round in comparison the Rachel."
   ]
  },
  {
   "cell_type": "markdown",
   "metadata": {},
   "source": [
    "**Part G**: Explain the significance of the solution technique for $P(Z)$ outlined in **Part D** and **Part E**.  Why did we go this route instead of computing $P(Z)$ directly?  Can we always use such techniques?  What assumption did we need to make in order to use this solution approach?"
   ]
  },
  {
   "cell_type": "markdown",
   "metadata": {},
   "source": [
    "Because we know that Z is independent of C. It is a much simpler calculation to use that procedure rather than to use a Bayes Theorem solution. (Also P(C|Z)=0 which complicates matters). We can't always use that technique however, as if the events were not independent the probabilities of Z and C would have been dependent on one another and our caluclations based on their independent likelihoods would have been accurate."
   ]
  },
  {
   "cell_type": "markdown",
   "metadata": {},
   "source": [
    "***\n",
    "\n",
    "\n",
    "In this problem you will write some code to simulate the game of **Miniopoly** (a very rough approximation of [Monopoly](https://en.wikipedia.org/wiki/Monopoly_(game)).  The game consists of a round board with 40 \"squares\" numbered from $0$ to $39$, where squares $0$ and would-be $40$ are [coincident](https://en.wikipedia.org/wiki/Coincident) and called **GO**.  A player starts on **GO** with \\\\$200 in their pocket.  On each turn the player rolls a pair of dice and then moves a number of spaces equal to the sum of the dice.  Landing on different squares have different results: \n",
    "\n",
    "- Squares 3, 7, 15, 22, 33, and 36 cause you to draw a card.  The cards tell you to collect either \\\\$50 or \\\\$250 or pay the bank \\\\$50.  There is always an equal probability associated with each of these possible cards.\n",
    "\n",
    "\n",
    "- Squares 0, 10, and 20 do not trigger any action \n",
    "\n",
    "\n",
    "- Square 30 is **Go To Jail**, which sends the player directly to **Jail** and ends the turn \n",
    "\n",
    "- If a player starts a turn from **Jail** she rolls two dice: \n",
    "\n",
    "    - If the player rolls doubles (i.e. the dice have equal values) the player moves from Square 10 a number of squares equal to the sum of the dice\n",
    "    \n",
    "    - If the player rolls anything other than doubles she pays the bank \\$20 and remains in **Jail** \n",
    "    \n",
    "\n",
    "- If the player passes or lands on **GO** she collects \\$200. \n",
    "\n",
    "- If the player lands on any other square not mentioned above, she pays the bank \\$25. \n",
    "\n",
    "\n",
    "If at any point the player has \\$0 or less they go bankrupt and the game ends.\n",
    "\n",
    "See [here](http://www.cs.colorado.edu/~tonyewong/home/resources/miniopoly_example.png) for an example of the Miniopoly board layout.\n",
    "\n",
    "<br>\n",
    "\n",
    "**Part A**: Complete the function miniopoly_turn below. The function should simulate one turn of Miniopoly.  It should take as arguments the player's current location on the board as well as the player's current cash reserves, and return the player's new location and cash reserves after the turn has completed. Note that if a player goes bankrupt during the game you should return their cash as 0 instead of a negative value.  "
   ]
  },
  {
   "cell_type": "code",
   "execution_count": 31,
   "metadata": {},
   "outputs": [],
   "source": [
    "def miniopoly_turn(state, cash):\n",
    "    if cash==0:\n",
    "        return state, cash\n",
    "    roll1 = random.randint(0,6)\n",
    "    roll2 = random.randint(0,6)\n",
    "    \n",
    "    if state==30:\n",
    "        if roll1==roll2:\n",
    "            state = 10+roll1+roll2\n",
    "        else:\n",
    "            cash -= 20\n",
    "            return state, cash\n",
    "        \n",
    "    else:\n",
    "        state += roll1 + roll2   \n",
    "        \n",
    "    if state >= 40:\n",
    "        cash += 200\n",
    "        state -= 40\n",
    "        \n",
    "    if state in [3,7,15,22,33,36]:\n",
    "        cash += random.choice([50,250,-50])\n",
    "        return state, cash \n",
    "\n",
    "    elif state in [0,10,20,30]:\n",
    "        return state, cash\n",
    "    \n",
    "    else:\n",
    "        cash-=25\n",
    "        return state, cash"
   ]
  },
  {
   "cell_type": "markdown",
   "metadata": {},
   "source": [
    "**Part B**: Use your function from **Part A** to Simulate at least 10000 25-turn games of Miniopoly and make a frequency histogram of the player's cash at the end of the game."
   ]
  },
  {
   "cell_type": "code",
   "execution_count": 32,
   "metadata": {},
   "outputs": [],
   "source": [
    "#Simulation for Part B\n",
    "simState=0\n",
    "simCash=200\n",
    "finalCash=[]\n",
    "for j in range(0,10001):\n",
    "    for i in range(1,25):\n",
    "        simState,simCash=miniopoly_turn(simState,simCash)\n",
    "    finalCash.append(simCash)\n",
    "    simState=0\n",
    "    simCash=200"
   ]
  },
  {
   "cell_type": "code",
   "execution_count": 33,
   "metadata": {},
   "outputs": [
    {
     "data": {
      "text/plain": [
       "Text(0,0.5,'# of games')"
      ]
     },
     "execution_count": 33,
     "metadata": {},
     "output_type": "execute_result"
    },
    {
     "data": {
      "image/png": "[encoded data removed]",
      "text/plain": [
       "<Figure size 1080x720 with 1 Axes>"
      ]
     },
     "metadata": {
      "needs_background": "light"
     },
     "output_type": "display_data"
    }
   ],
   "source": [
    "#Frequency histogram\n",
    "my_bins = range(0,2000,50)\n",
    "cashSeries = pd.Series(finalCash)\n",
    "fig, ax=plt.subplots(figsize=(15,10))\n",
    "cashSeries.hist(ax=ax, edgecolor='black',bins=my_bins)\n",
    "ax.set_title('Frequency of Final Cash Values')\n",
    "ax.set_xlabel('Final Cash')\n",
    "ax.set_ylabel('# of games')"
   ]
  },
  {
   "cell_type": "markdown",
   "metadata": {},
   "source": [
    "**Part C**: Use your code from **Part A** to estimate the probability that a player goes bankrupt in a game that only lasts 25 turns."
   ]
  },
  {
   "cell_type": "code",
   "execution_count": 34,
   "metadata": {},
   "outputs": [
    {
     "name": "stdout",
     "output_type": "stream",
     "text": [
      "Probability of going bankrupt: 0.11078892110788921\n"
     ]
    }
   ],
   "source": [
    "#Estimation of probability of going bankrupt\n",
    "bankrupt=[]\n",
    "for i in range(0,len(finalCash)):\n",
    "    if finalCash[i]==0:\n",
    "        bankrupt.append(1)\n",
    "    elif finalCash[i]!=0:\n",
    "        bankrupt.append(0)\n",
    "probBankrupt=np.mean(bankrupt)\n",
    "print(\"Probability of going bankrupt: \"+str(probBankrupt))"
   ]
  },
  {
   "cell_type": "markdown",
   "metadata": {},
   "source": [
    "**Part D**: Use your code from **Part A** to estimate the probability that a player goes bankrupt in a 25 turn game  _given_ that they went to **Jail** at least twice.  Is a player more or less likely to go bankrupt if they've been to **Jail** twice?  "
   ]
  },
  {
   "cell_type": "code",
   "execution_count": 35,
   "metadata": {},
   "outputs": [
    {
     "name": "stdout",
     "output_type": "stream",
     "text": [
      "Probability of bankruptcy given two jails visits: 0.09318801089918256\n"
     ]
    }
   ],
   "source": [
    "#Note that this estimation is not counting remaining in jail \n",
    "#as a second visit to jail\n",
    "finalCash=[]\n",
    "simState=0\n",
    "simCash=200\n",
    "prevJail=False\n",
    "twoJail=[]\n",
    "numJailVisits=0\n",
    "finalCash=[]\n",
    "bothArray=[]\n",
    "bankrupt=[]\n",
    "\n",
    "for j in range(0,10001):\n",
    "    for i in range(1,25):\n",
    "        simState,simCash=miniopoly_turn(simState,simCash)\n",
    "        if simState==30 and prevJail==False:\n",
    "            numJailVisits+=1\n",
    "            prevJail==True\n",
    "        else:\n",
    "            prevJail==False   \n",
    "                \n",
    "    if numJailVisits>=2:\n",
    "        twoJail.append(1)\n",
    "    else:\n",
    "        twoJail.append(0)  \n",
    "        \n",
    "    finalCash.append(simCash)\n",
    "    simState=0\n",
    "    simCash=200\n",
    "    numJailVisits=0\n",
    "    prevJail=False\n",
    "    \n",
    "for k in range(0,len(finalCash)):\n",
    "    if finalCash[k]==0:\n",
    "        bankrupt.append(1)\n",
    "    else:\n",
    "        bankrupt.append(0)\n",
    "        \n",
    "for l in range(0,10001):\n",
    "    if bankrupt[l]==1 and twoJail[l]==1:\n",
    "        bothArray.append(1)\n",
    "    elif bankrupt[l]==0 and twoJail[l]==1:\n",
    "        bothArray.append(0)\n",
    "        \n",
    "probBankruptGivenTwoJail=np.mean(bothArray)\n",
    "print(\"Probability of bankruptcy given two jails visits: \"+ str(probBankruptGivenTwoJail))\n",
    "    "
   ]
  },
  {
   "cell_type": "markdown",
   "metadata": {},
   "source": [
    "**Part E**: Use your code from **Part A** to estimate the probability (either directly or using Bayes' Rule) that a player has gone to jail at least twice, given that the player went bankrupt in the first 25 turns."
   ]
  },
  {
   "cell_type": "code",
   "execution_count": 36,
   "metadata": {},
   "outputs": [
    {
     "name": "stdout",
     "output_type": "stream",
     "text": [
      "Probability of having been to jail twice given having gone bankrupt: 0.3086642599277979\n"
     ]
    }
   ],
   "source": [
    "#Estimate probability of going to jail twice, given bankruptcy in first 25 turns.\n",
    "#P(J2|B)=P(B|J2)*P(J2)/P(B)\n",
    "PTwoJail=np.mean(twoJail)\n",
    "PTwoJailGivenBankrupt=(probBankruptGivenTwoJail*PTwoJail)/probBankrupt\n",
    "print(\"Probability of having been to jail twice given having gone bankrupt: \"+str(PTwoJailGivenBankrupt))"
   ]
  },
  {
   "cell_type": "markdown",
   "metadata": {},
   "source": [
    "***\n",
    "\n",
    "\n",
    "To get published in an academic journal, you have to prove something \"interesting.\"  As a result, most academics begin their research by investigating hypotheses that, all else equal, are unlikely to be true.  Suppose each research project begins with a research *claim* that has a 10% chance of being correct.\n",
    "\n",
    "They then perform a study that satisfies the following two properties:\n",
    "\n",
    "    1) The probability that they correctly *find* an important result given that their *claim* is true is 50%\n",
    "    2) The probability that they incorrectly *find* an important result given that their *claim* is false is 5%\n",
    "\n",
    "If they *find* an important result they are published.  What is the probability that their *claim* was true, given that they were published?"
   ]
  },
  {
   "cell_type": "raw",
   "metadata": {},
   "source": [
    "Let C be that the researchers claim is true. Let F be the researched found an important result. Let P be that a result was published.\n",
    "\n",
    "P(P|F)=1\n",
    "P(F|C)=.5\n",
    "P(F|~C)=.05\n",
    "P(C)=.1\n",
    "P(~C)=.9\n",
    "\n",
    "P(P)=P(P|C)+P(P|~C) by law of total probability:\n",
    "    P(P|C)= P(C)*P(F|C)*P(P|F)\n",
    "    P(P|C)=.1*.5*1=0.05\n",
    "    P(P|~C)= P(~C)*P(F|~C)*P(P|F)\n",
    "    P(P|~C)=.9*.05*1=.045\n",
    "    P(P)=.095\n",
    "    \n",
    "P(C|P)=P(P|C)*P(C)/P(P):\n",
    "    =.05*.1/.095\n",
    "    =0.0526\n",
    "There is a 5.26% chance that the claim was actually true given that the finding was published."
   ]
  }
 ],
 "metadata": {
  "kernelspec": {
   "display_name": "Python 3",
   "language": "python",
   "name": "python3"
  },
  "language_info": {
   "codemirror_mode": {
    "name": "ipython",
    "version": 3
   },
   "file_extension": ".py",
   "mimetype": "text/x-python",
   "name": "python",
   "nbconvert_exporter": "python",
   "pygments_lexer": "ipython3",
   "version": "3.6.7"
  }
 },
 "nbformat": 4,
 "nbformat_minor": 2
}
