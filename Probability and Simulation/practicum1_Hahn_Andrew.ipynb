{
 "cells": [
  {
   "cell_type": "markdown",
   "metadata": {},
   "source": [
    "<a id='top'></a>\n",
    "\n",
    "# CSCI 3022: Intro to Data Science - Fall 2019 Practicum 1\n",
    "***\n",
    "\n",
    "This practicum is due on Canvas by **11:59 PM on Friday October 11**. Your solutions to theoretical questions should be done in Markdown/MathJax directly below the associated question.  Your solutions to computational questions should include any specified Python code and results as well as written commentary on your conclusions.  \n",
    "\n",
    "**Here are the rules:** \n",
    "\n",
    "1. All work, code and analysis, must be your own. \n",
    "1. You may use your course notes, posted lecture slides, textbooks, in-class notebooks, and homework solutions as resources.  You may also search online for answers to general knowledge questions like the form of a probability distribution function or how to perform a particular operation in Python/Pandas. \n",
    "1. This is meant to be like a coding portion of your midterm exam. So, the instructional team will be much less helpful than we typically are with homework. For example, we will not check answers, help debug your code, and so on.\n",
    "1. If something is left open-ended, it is because we want to see how you approach the kinds of problems you will encounter in the wild, where it will not always be clear what sort of tests/methods should be applied. Feel free to ask clarifying questions though.\n",
    "2. You may **NOT** post to message boards or other online resources asking for help.\n",
    "3. You may **NOT** copy-paste solutions *from anywhere*.\n",
    "4. You may **NOT** collaborate with classmates or anyone else.\n",
    "5. In short, **your work must be your own**. It really is that simple.\n",
    "\n",
    "Violation of the above rules will result in an immediate academic sanction (*at the very least*, you will receive a 0 on this practicum or an F in the course, depending on severity), and a trip to the Honor Code Council.\n",
    "\n",
    "**By submitting this assignment, you agree to abide by the rules given above.**\n",
    "\n",
    "***\n",
    "\n",
    "**Name**:  \n",
    "\n",
    "***\n",
    "\n",
    "\n",
    "**NOTES**: \n",
    "\n",
    "- You may not use late days on the practicums nor can you drop your practicum grades. \n",
    "- If you have a question for us, post it as a **PRIVATE** message on Piazza.  If we decide that the question is appropriate for the entire class, then we will add it to a Practicum clarifications thread. \n",
    "- Do **NOT** load or use any Python packages that are not available in Anaconda 3.6. \n",
    "- Some problems with code may be autograded.  If we provide a function API **do not** change it.  If we do not provide a function API then you're free to structure your code however you like. \n",
    "- Submit only this Jupyter notebook to Canvas.  Do not compress it using tar, rar, zip, etc. \n",
    "- This should go without saying, but... For any question that asks you to calculate something, you **must show all work to receive credit**. Sparse or nonexistent work will receive sparse or nonexistent credit.\n",
    "\n",
    "---\n",
    "**Shortcuts:**  [Problem 1](#p1) | [Problem 2](#p2) | [Problem 3](#p3) |[Bottom](#bot)\n",
    "\n",
    "---"
   ]
  },
  {
   "cell_type": "code",
   "execution_count": 13,
   "metadata": {},
   "outputs": [],
   "source": [
    "from scipy import stats\n",
    "from random import randint\n",
    "import random\n",
    "from scipy.special import binom\n",
    "import numpy as np \n",
    "import pandas as pd\n",
    "import matplotlib.pyplot as plt\n",
    "%matplotlib inline"
   ]
  },
  {
   "cell_type": "markdown",
   "metadata": {},
   "source": [
    "<br>\n",
    "\n",
    "---\n",
    "[Back to top](#top)\n",
    "<a id='p1'></a>\n",
    "\n",
    "### [30 points] Problem 1: Rubber Ducky Race"
   ]
  },
  {
   "cell_type": "markdown",
   "metadata": {},
   "source": [
    "Every year, the Aspen Valley Rotary Club hosts a [rubber ducky race](https://www.aspenrotary.org/page/the-ducky-derby). Each Rubber Ducky is stamped with a number, tickets are sold  and if your ducky makes it to the end of the course first, you win. Exact Rules follow:\n",
    "\n",
    "1. The Rotary Club sells \"Duck Adoption\" papers. Only Ducks that have been adopted start the race, so there must always be a winner.\n",
    "2. The ducks are dumped into a river and race to a finish line. The adoptive parent of the first duck across the line wins. The standard prize is 15,000 dollars.\n",
    "3. Before the start of the duck race, the Rotary Club randomly draws a number of special ducks. For every 3,333 ducks that start the race, 1 special duck is drawn.\n",
    "4. If a special duck wins the race the prize is increased from 15,000 dollars to 1,000,000 dollars.\n",
    "\n",
    "**Assume that all ducks are equally likely to win the ducky race.**"
   ]
  },
  {
   "cell_type": "markdown",
   "metadata": {},
   "source": [
    "**Part A:**\n",
    "Given that 9999 ducks start the race and you purchase 1 duck, calculate the probability by hand that your duck is selected as a special ducky."
   ]
  },
  {
   "cell_type": "raw",
   "metadata": {},
   "source": [
    "P(Special)=1/3333\n",
    "Total ducks=9999\n",
    "Num of Special ducks=9999*(1/3333)=3\n",
    "P(My duck is special)=3/9999=1/3333=0.00030003"
   ]
  },
  {
   "cell_type": "markdown",
   "metadata": {},
   "source": [
    "**Part B:** Calculate the probability that the rotary club pays out the million dollar prize."
   ]
  },
  {
   "cell_type": "raw",
   "metadata": {},
   "source": [
    "A duck winning is independent of it being a special duck\n",
    "The Probability that the club pays out a million dollar prize is equal to the probability that a special duck wins the race.\n",
    "P(Duck wins)=1/9999\n",
    "P(Duck wins and Duck is special)=(1/9999)*(1/3333)=1/33,326,667=0.00000003\n",
    "P(million dollar prize)=0.00000003"
   ]
  },
  {
   "cell_type": "markdown",
   "metadata": {},
   "source": [
    "**Part C:** Calculate the probability that your duck is both picked as a special duck and wins the race."
   ]
  },
  {
   "cell_type": "raw",
   "metadata": {},
   "source": [
    "From above:\n",
    "P(Duck wins and Duck is special)=0.00000003"
   ]
  },
  {
   "cell_type": "markdown",
   "metadata": {},
   "source": [
    "**Part D:** Calculate the expected payout for the Rotary Club for a 9999 duck race. "
   ]
  },
  {
   "cell_type": "raw",
   "metadata": {},
   "source": [
    "EV=P(Normal duck wins)*(15,000)+P(Special Duck Wins)*(1,000,000)\n",
    "P(Normal duck wins=9996/9999=0.99969997\n",
    "Expected Payout=(0.99969997*15,000)+(0.00000003*1,000,000)=14,995.5296"
   ]
  },
  {
   "cell_type": "markdown",
   "metadata": {},
   "source": [
    "**Part E:** The Rotary Club takes out an insurance policy on having to pay the 1,000,000 dollar prize. They pay $50 per duck race to the insurance company. From your answer above, is this worth it? Explain. Is there any number of ducks that make the insurance policy a good deal? If it is not worth it, what's a reason the the Rotary Club might buy the policy anyways? "
   ]
  },
  {
   "cell_type": "raw",
   "metadata": {},
   "source": [
    "0.00000003*1,000,000=0.03<50, so from an expected value standpoint the insurance policy is not worth it(such is the entire point of insurance companies).\n",
    "We have already examined the worst case scenario, which is that the number of ducks entered is divisble by 3,333. Any other number of ducks will have an even smaller chance of a million dollar payout, as adding more ducks doesn't change the prevalence of special ducks in the population of 1/3333. \n",
    "The Rotary Club probably purchases the policy as they do not have the cash on hand to pay out the million dollar prize on the off chance it does happen,\n",
    "but does always have $50 yearly so must purchase the policy in order to be able to offer the million dollar prize as incentive to grow participation."
   ]
  },
  {
   "cell_type": "markdown",
   "metadata": {},
   "source": [
    "**Part F:** Write a python function that simulates a single duck race. It should use the api below and the class written for you. DO NOT CHANGE THE API OR THE ENUMERATED CLASS. The function should take the number of ducks that start the race in as a parameter, and return a tuple of the duck's number that won, and the type of winner that duck was. \n",
    "\n",
    "[E.g. (1522, <Types_Of_Winner.REGULAR: 0>) ] \n",
    "\n",
    "The duck numbers start at 1 and go until the number passed in (Eg. For 500 ducks, the ducks are numbered 1 to 500. No Duck is numbered 0)."
   ]
  },
  {
   "cell_type": "code",
   "execution_count": 14,
   "metadata": {},
   "outputs": [
    {
     "name": "stdout",
     "output_type": "stream",
     "text": [
      "(194, <Types_Of_Winner.REGULAR: 0>)\n"
     ]
    }
   ],
   "source": [
    "from enum import Enum\n",
    "#Dont change this. You should return a tuple of (int, Type_Of_Winner) in the function below. \n",
    "#The type of winner should be from this class. The int should represent the duck number of the winning duck.\n",
    "#If you want more info about Enumerated Types in python: https://docs.python.org/3/library/enum.html\n",
    "class Types_Of_Winner(Enum):\n",
    "    REGULAR = 0\n",
    "    SPECIAL = 1\n",
    "\n",
    "#don't change this api. We will use a set of unit tests to test this. \n",
    "#This uses a default parameter. If you are unfamiliar with default parameters: \n",
    "#https://www.geeksforgeeks.org/default-arguments-in-python/ \n",
    "#Don't change the default parameter.\n",
    "def rubber_Ducky_Race(number_Of_Ducks=3333):\n",
    "    #YOUR IMPLEMENTATION HERE\n",
    "    #Change the below to simulate a duck race.\n",
    "    winning_Duck_Number = randint(1,number_Of_Ducks)\n",
    "    if winning_Duck_Number % 3333==0:\n",
    "        type_Of_Winner= Types_Of_Winner.SPECIAL\n",
    "    else:\n",
    "        type_Of_Winner = Types_Of_Winner.REGULAR\n",
    "    #you can change the variable names, but must return tuple of type (int, Types_Of_Winner)\n",
    "    return (winning_Duck_Number, type_Of_Winner)\n",
    "\n",
    "retTup=rubber_Ducky_Race()\n",
    "print(retTup)"
   ]
  },
  {
   "cell_type": "markdown",
   "metadata": {},
   "source": [
    "winning_Duck_Number is a random int. If the winning ducks number is cleanly divisible by 3333, it is classified as a special duck"
   ]
  },
  {
   "cell_type": "markdown",
   "metadata": {},
   "source": [
    "**Part G:** Write a python function that takes in a number of duck races (num_Duck_Races) and a number of ducks per race (num_Ducks_Per_Race). The function should run the function you wrote in part F by passing the number of ducks to the function from part F. It should run the function from part F num_Duck_Races times, and record all the results. It then should calculate the amount of money the rotary club paid out in each race and return a list of the rotary club's payouts (integer values of dollars paid out). Don't change the API as we will be auto grading this."
   ]
  },
  {
   "cell_type": "code",
   "execution_count": 15,
   "metadata": {},
   "outputs": [],
   "source": [
    "#Don't change this api. Use the parameters passed in in your implemenation of this function.\n",
    "def run_Simulation_Duck_Race(num_Duck_Races, num_Ducks_Per_Race):\n",
    "    #IMPLEMENTATION HERE\n",
    "    payouts=[]\n",
    "    for i in range(0,num_Duck_Races):\n",
    "        retTup=rubber_Ducky_Race(num_Ducks_Per_Race)\n",
    "        if retTup[1].value==1:\n",
    "            payouts.append(1000000)\n",
    "        else:\n",
    "            payouts.append(15000)\n",
    "    #CHANGE RETURN VALUE TO BE LIST OF PAYOUTS FROM YOUR CODE IMPLEMENTED IN THIS FUNCTION\n",
    "    return payouts\n",
    "pays=run_Simulation_Duck_Race(50,3333)"
   ]
  },
  {
   "cell_type": "markdown",
   "metadata": {},
   "source": []
  },
  {
   "cell_type": "markdown",
   "metadata": {},
   "source": [
    "**Part H:** Run the simulation function you made in part G 50 times for 1111 duck races each with 3333 ducks per race. Calculate the mean of each list of payouts returned by your function from part F and plot the mean payout values on a histogram. We recommend using the default bins argument here (don't pass it in). Make sure to make your histogram legible, label the plot, and label the x and the y axes (with their units). Do this all in one cell and run the cell a few times and see what different histograms are generated from the simulations. When you find one with three distinct \"bars\" leave it in the output of the cell. Explain why this histogram makes sense. Your answer here should talk about what each distinct \"bar\" in the histogram represents, the probabiity that the rotary club pays out the million dollar prize, and the number of races in each simulation. "
   ]
  },
  {
   "cell_type": "code",
   "execution_count": 16,
   "metadata": {},
   "outputs": [
    {
     "data": {
      "text/plain": [
       "Text(0,0.5,'Frequency')"
      ]
     },
     "execution_count": 16,
     "metadata": {},
     "output_type": "execute_result"
    },
    {
     "data": {
      "image/png": "[encoded data removed]",
      "text/plain": [
       "<Figure size 1080x720 with 1 Axes>"
      ]
     },
     "metadata": {
      "needs_background": "light"
     },
     "output_type": "display_data"
    }
   ],
   "source": [
    "payouts2=[]\n",
    "for i in range(0,50):\n",
    "    payouts3=[]\n",
    "    payouts3.append(run_Simulation_Duck_Race(1111,3333))\n",
    "    payouts2.append(np.mean(payouts3))\n",
    "    \n",
    "meanSeries=pd.Series(payouts2)\n",
    "fig, ax=plt.subplots(figsize=(15,10))\n",
    "meanSeries.hist(ax=ax, edgecolor='black')\n",
    "ax.set_title('Frequency of Mean Payout Values')\n",
    "ax.set_xlabel('Mean Payout')\n",
    "ax.set_ylabel('Frequency')"
   ]
  },
  {
   "cell_type": "raw",
   "metadata": {},
   "source": [
    "This makes sense as when we run 1111 simulations, we should expect to see a small but non zero number of 1 million dollar payouts, and maybe one or two cases of 2 million dollar payouts.\n",
    "The first bar represents that all 1111 races had a final payout of 15,000. As the likelyhood of paying out a 15,000 prize is 0.99969997, it makes sense this makes up the majority of our results.\n",
    "The second bar represents a single million dollar payout. While the likelyhood of a million dollar payout is 0.00000003, when running over 50,0000 simulations it makes sense that we would see at least a few million dollar payouts. The final bar represents 2 one million dollar payouts. As this is highly unlikely it makes sense that this outcome only occured once in all 50 simulations of 1111 races."
   ]
  },
  {
   "cell_type": "markdown",
   "metadata": {},
   "source": [
    "**Part I:** Pick a lucky number in between 1 and 7000 and run your function from part F 25000 times with 7,000 ducks. Capture all the results and find the number of times your duck won! Was your duck ever a winner or even a special Million Dollar Winner?"
   ]
  },
  {
   "cell_type": "code",
   "execution_count": 17,
   "metadata": {},
   "outputs": [
    {
     "name": "stdout",
     "output_type": "stream",
     "text": [
      "Duck number 1111 won 15000 4 times and won a million 0 times.\n"
     ]
    }
   ],
   "source": [
    "luckyNum=1111\n",
    "numWon=0\n",
    "numMillion=0\n",
    "for i in range(0,25000):\n",
    "    resultTup=rubber_Ducky_Race(7000)\n",
    "    if resultTup[0]==1111 and resultTup[1]!=1:\n",
    "        numWon+=1\n",
    "    elif resultTup[0]==1111 and resultTup[1]==1:\n",
    "        numMillion+=1\n",
    "print(\"Duck number 1111 won 15000 \"+str(numWon)+\" times and won a million \"+str(numMillion)+\" times.\")"
   ]
  },
  {
   "cell_type": "markdown",
   "metadata": {},
   "source": [
    "<br>\n",
    "\n",
    "---\n",
    "[Back to top](#top)\n",
    "<a id='p2'></a>\n",
    "\n",
    "### [20 points] Problem 2: Tax Fraud\n",
    "\n",
    "Let $X =$ the leading digit of a randomly selected number from a large accounting ledger. So, for example, if we randomly draw the number $\\$20,695$, then $X = 2$. People who make up numbers to commit accounting fraud tend to give $X$ a (discrete) uniform distribution, i.e., $P(X = x) = 1/9$, for $x \\in \\{1,...,9\\}$. However, there is empirical evidence that suggests that \"naturally occurring\" numbers (e.g., numbers in a non-fraudulent accounting ledger) have leading digits that do not follow a uniform distribution. Instead, they follow a distribution defined by:\n",
    "\n",
    "\\begin{align*}\n",
    "f(x) = \\log_{10}\\bigg(\\frac{x+1}{x}\\bigg), \\,\\,\\,\\, x = 1,2,...,9.\n",
    "\\end{align*} \n",
    "\n",
    "Using ${\\tt tax.txt}$, a dataset containing the taxable incomes for individuals in 1978, we will decide whether this dataset is fraudulent. \n",
    "\n",
    "\n",
    "\n",
    "**Part A**:  Read in the data and create a variable that holds only the character of each data point."
   ]
  },
  {
   "cell_type": "code",
   "execution_count": 18,
   "metadata": {},
   "outputs": [
    {
     "data": {
      "text/html": [
       "<div>\n",
       "<style scoped>\n",
       "    .dataframe tbody tr th:only-of-type {\n",
       "        vertical-align: middle;\n",
       "    }\n",
       "\n",
       "    .dataframe tbody tr th {\n",
       "        vertical-align: top;\n",
       "    }\n",
       "\n",
       "    .dataframe thead th {\n",
       "        text-align: right;\n",
       "    }\n",
       "</style>\n",
       "<table border=\"1\" class=\"dataframe\">\n",
       "  <thead>\n",
       "    <tr style=\"text-align: right;\">\n",
       "      <th></th>\n",
       "      <th>taxIncomes</th>\n",
       "      <th>character</th>\n",
       "    </tr>\n",
       "  </thead>\n",
       "  <tbody>\n",
       "    <tr>\n",
       "      <th>1</th>\n",
       "      <td>5601.0</td>\n",
       "      <td>5</td>\n",
       "    </tr>\n",
       "    <tr>\n",
       "      <th>2</th>\n",
       "      <td>4977.0</td>\n",
       "      <td>4</td>\n",
       "    </tr>\n",
       "    <tr>\n",
       "      <th>3</th>\n",
       "      <td>5959.0</td>\n",
       "      <td>5</td>\n",
       "    </tr>\n",
       "    <tr>\n",
       "      <th>4</th>\n",
       "      <td>6267.0</td>\n",
       "      <td>6</td>\n",
       "    </tr>\n",
       "    <tr>\n",
       "      <th>5</th>\n",
       "      <td>5221.0</td>\n",
       "      <td>5</td>\n",
       "    </tr>\n",
       "  </tbody>\n",
       "</table>\n",
       "</div>"
      ],
      "text/plain": [
       "   taxIncomes  character\n",
       "1      5601.0          5\n",
       "2      4977.0          4\n",
       "3      5959.0          5\n",
       "4      6267.0          6\n",
       "5      5221.0          5"
      ]
     },
     "execution_count": 18,
     "metadata": {},
     "output_type": "execute_result"
    }
   ],
   "source": [
    "data=pd.read_table('tax.txt')\n",
    "data['character']=data['taxIncomes'].astype(str).str[0].astype(int)\n",
    "data.head()"
   ]
  },
  {
   "cell_type": "markdown",
   "metadata": {},
   "source": []
  },
  {
   "cell_type": "markdown",
   "metadata": {},
   "source": [
    "**Part B**: Create a histogram of the data that also plots or overlays the suggested non-fradulent density $f(x)$ as well as the density of the discrete uniform over the same support."
   ]
  },
  {
   "cell_type": "code",
   "execution_count": 19,
   "metadata": {},
   "outputs": [
    {
     "data": {
      "text/plain": [
       "<matplotlib.legend.Legend at 0x7ff3d4916630>"
      ]
     },
     "execution_count": 19,
     "metadata": {},
     "output_type": "execute_result"
    },
    {
     "data": {
      "image/png": "[encoded data removed]",
      "text/plain": [
       "<Figure size 1800x1440 with 1 Axes>"
      ]
     },
     "metadata": {
      "needs_background": "light"
     },
     "output_type": "display_data"
    }
   ],
   "source": [
    "nonFraudDist=[]\n",
    "rangeVal=[]\n",
    "for i in range(1,10):\n",
    "    rangeVal.append(i)\n",
    "    nonFraudValue=np.log10((i+1)/i)\n",
    "    nonFraudDist.append(nonFraudValue)\n",
    "nonFraudDistValue=[]\n",
    "uniformDist=[]\n",
    "for i in range(len(data)):\n",
    "    nonFraudDistValue.append(np.random.choice(np.arange(1, 10), p=nonFraudDist))\n",
    "    uniformDist.append(randint(0,9))\n",
    "    \n",
    "data['nonFraudDistribution']=pd.Series(nonFraudDistValue).astype(int)\n",
    "data['uniformDistribution']=pd.Series(uniformDist).astype(int)\n",
    "\n",
    "fig = plt.figure(figsize=(25,20))\n",
    "ax = fig.add_subplot(333)\n",
    "ax.hist(data['character'], color = 'red', label='Actual Data', edgecolor='black',density=True,alpha=0.5)\n",
    "ax.hist(data['uniformDistribution'].dropna(), color = 'blue', label='Uniform Distribution', edgecolor='black',density=True,alpha=0.5)\n",
    "ax.hist(data['nonFraudDistribution'].dropna(), color = 'green', label='Expected Distribution', edgecolor='black',density=True,alpha=0.5)\n",
    "ax.set_title('Comparison of Dataset with Uniform and Expected Distribtuions')\n",
    "ax.set_xlabel('Leading Character')\n",
    "ax.set_ylabel('Frequency')\n",
    "ax.legend()"
   ]
  },
  {
   "cell_type": "markdown",
   "metadata": {},
   "source": []
  },
  {
   "cell_type": "markdown",
   "metadata": {},
   "source": [
    "**Part C**: Does it appear as those the data is fraudulent, not fraudulent, or too hard to tell?  What kind of numerical measures could you use to support such a conclusion?"
   ]
  },
  {
   "cell_type": "markdown",
   "metadata": {},
   "source": [
    "From the graph it appears that the actual data is quite similar to that of the expeceted distribution, which would indicate that this data is not fradulent. A more rigorous way of testing this would be to complete an analysis of the data using Bayes theorem. Using this we could find the likelihood that the data is fradulent given the probability of each character in the dataset. Essentially taking an average of the probability of fradulence for p(X=1)=0.35, etc, and if the probability of fraudlence is high this would be a more rigrourous way of saying the data is fraudulent."
   ]
  },
  {
   "cell_type": "markdown",
   "metadata": {},
   "source": [
    "**Part D**: Create a new object that stores only the first digit of the first 100 distinct powers of 2, e.g. $Y=[2, 2^2, 2^3, 2^4, \\dots ]$.  Repeat steps a) and b) for this new data set, plotting the distribution of the first digit of terms in $Y$ against $f(x)$."
   ]
  },
  {
   "cell_type": "code",
   "execution_count": 20,
   "metadata": {},
   "outputs": [
    {
     "data": {
      "text/plain": [
       "<matplotlib.legend.Legend at 0x7ff3d457e390>"
      ]
     },
     "execution_count": 20,
     "metadata": {},
     "output_type": "execute_result"
    },
    {
     "data": {
      "image/png": "[encoded data removed]",
      "text/plain": [
       "<Figure size 1800x1440 with 1 Axes>"
      ]
     },
     "metadata": {
      "needs_background": "light"
     },
     "output_type": "display_data"
    }
   ],
   "source": [
    "twoPow=[]\n",
    "for i in range(0,100):\n",
    "    twoPow.append(2**i)\n",
    "    \n",
    "data['twos']=pd.Series(twoPow).astype(str).str[0].astype(int)\n",
    "\n",
    "fig = plt.figure(figsize=(25,20))\n",
    "ax = fig.add_subplot(333)\n",
    "ax.hist(data['twos'].dropna(), color = 'red', label='Powers Of Two Distribution', edgecolor='black',density=True,alpha=0.5)\n",
    "ax.hist(data['uniformDistribution'].dropna(), color = 'blue', label='Uniform Distribution', edgecolor='black',density=True,alpha=0.5)\n",
    "ax.hist(data['nonFraudDistribution'].dropna(), color = 'green', label='Expected Distribution', edgecolor='black',density=True,alpha=0.5)\n",
    "ax.set_title('Comparison of Powers Dataset with Uniform and Expected Distribtuions')\n",
    "ax.set_xlabel('Leading Character')\n",
    "ax.set_ylabel('Frequency')\n",
    "ax.legend()"
   ]
  },
  {
   "cell_type": "markdown",
   "metadata": {},
   "source": [
    "From the graph it appears that a distribtution formed from powers of two is also similar to that of a non-fraudlent distribtution. Again, a more rigorous way of testing this would be to complete a Bayseian analysis of the data as compared to the expected distribution."
   ]
  },
  {
   "cell_type": "markdown",
   "metadata": {},
   "source": [
    "<br>\n",
    "\n",
    "---\n",
    "[Back to top](#top)\n",
    "<a id='p3'></a>\n",
    "\n",
    "### [30 points] Problem 3: Poker\n",
    "\n",
    "It's time to play poker.  (https://en.wikipedia.org/wiki/Texas_hold_%27em#Hand_values) Assume that we are using a standard deck of cards without jokers (52 cards). For each round, you will be dealt 5 cards from the deck without replacement. There are several different types of hands that can be dealt; listed below are a few of interest: \n",
    "\n",
    "- Highcard (Simple value of the card. Lowest: 2 - Highest: Ace)\n",
    "- Pair (Two cards with the same value)\n",
    "- Two pair (Twice two cards with the same value)\n",
    "- Three of a kind (Three cards with the same value)\n",
    "- Straight (Sequence of 5 cards in increasing value, Ace can only follow K)\n",
    "- Four of a kind (Four cards with the same value)\n",
    "- Full house (Three of a kind and a pair)\n",
    "- Flush (5 cards of the same suit)"
   ]
  },
  {
   "cell_type": "markdown",
   "metadata": {},
   "source": [
    "**Part A**: What is the exact probability you get at least a Pair in your 5 cards? What is the probability of getting a Full House?  (Note that we're including pairs as a subset of a full house, here)"
   ]
  },
  {
   "cell_type": "raw",
   "metadata": {},
   "source": [
    "Probability of A Pair:\n",
    "    Total hands=52C5\n",
    "    Ways to choose first card number:13C1\n",
    "    Ways to choose second card using different suit: 4C2\n",
    "    Ways to choose remaining card numbers=13C1+2\n",
    "    Ways to choose remaining card suit=(4C1)^3\n",
    "    Probability of pair=13C1*4C2*13C1+2*(4C1)^3/52C5=0.499\n",
    "    \n",
    "Probability of Full House:\n",
    "    Way to choose first card number: 13C1\n",
    "    Ways to choose second and third with suits 4C3\n",
    "    Ways to chosse other card number 12C1\n",
    "    Ways to choose pair card by suit 4C2\n",
    "    Probability of full house=12C1*4C3*12C1*4C2/52C5=0.0014"
   ]
  },
  {
   "cell_type": "markdown",
   "metadata": {},
   "source": [
    "**Part B**: Write a function `getCards()` to randomly generate 5 cards from the no-joker deck. This function should return an array of 5 cards."
   ]
  },
  {
   "cell_type": "code",
   "execution_count": 21,
   "metadata": {},
   "outputs": [],
   "source": [
    "cards=['A','2','3','4','5','6','7','8','9','10','J','Q','K'\n",
    "       'A','2','3','4','5','6','7','8','9','10','J','Q','K'\n",
    "       'A','2','3','4','5','6','7','8','9','10','J','Q','K'\n",
    "       'A','2','3','4','5','6','7','8','9','10','J','Q','K']\n",
    "       \n",
    "def getCards(cards):\n",
    "    return random.sample(cards,5)"
   ]
  },
  {
   "cell_type": "markdown",
   "metadata": {},
   "source": [
    "**Part C**: Run the `getCards()` simulation 10000 times, and store the result in an array named `card_array`."
   ]
  },
  {
   "cell_type": "code",
   "execution_count": 22,
   "metadata": {},
   "outputs": [],
   "source": [
    "card_array=[]\n",
    "for i in range(10000):\n",
    "    card_array.append(getCards(cards))"
   ]
  },
  {
   "cell_type": "markdown",
   "metadata": {},
   "source": [
    "**Part D**: Write a function `pair(card_array, num_sim)` For the 10000 simulations we did in Part C, what is the probability of have Pair? Does the result agree with your calculation in Part A?"
   ]
  },
  {
   "cell_type": "code",
   "execution_count": 23,
   "metadata": {},
   "outputs": [
    {
     "name": "stdout",
     "output_type": "stream",
     "text": [
      "Probability of pair or better: 0.49\n",
      "This result is in rough agreement with the calculation from part A\n"
     ]
    }
   ],
   "source": [
    "def pair(card_array, num_sim):\n",
    "    pairCount=0\n",
    "    for list in card_array:\n",
    "        card=set(list)\n",
    "        #sets get rid of same elements\n",
    "        if len(card)!=5:\n",
    "            pairCount+=1\n",
    "    return (pairCount/num_sim)\n",
    "\n",
    "pairResults=pair(card_array,10000)\n",
    "\n",
    "print(\"Probability of pair or better: \"+str(pairResults))\n",
    "print(\"This result is in rough agreement with the calculation from part A\")"
   ]
  },
  {
   "cell_type": "markdown",
   "metadata": {},
   "source": [
    "**Part E:** Write a function `fullhouse(card_array, num_sim)` For the 10000 simulations we did in Part C, what is the probability of having a Full House? Does the result agree with your calculation in Part A?"
   ]
  },
  {
   "cell_type": "code",
   "execution_count": 24,
   "metadata": {},
   "outputs": [
    {
     "name": "stdout",
     "output_type": "stream",
     "text": [
      "Probability of full house: 0.0021\n",
      "This result is in agreement with the calculation from part A\n"
     ]
    }
   ],
   "source": [
    "from collections import Counter\n",
    "def fullhouse(card_array,num_sim):\n",
    "    fullCount=0\n",
    "    for list in card_array:\n",
    "        card=set(list)\n",
    "        numReps=dict(Counter(list))\n",
    "        if len(card)==2 and 4 not in numReps:\n",
    "            fullCount+=1\n",
    "    return (fullCount/num_sim)\n",
    "\n",
    "fullhouseResults=fullhouse(card_array,10000)\n",
    "print(\"Probability of full house: \"+str(fullhouseResults))\n",
    "print(\"This result is in agreement with the calculation from part A\")"
   ]
  }
 ],
 "metadata": {
  "kernelspec": {
   "display_name": "Python 3",
   "language": "python",
   "name": "python3"
  },
  "language_info": {
   "codemirror_mode": {
    "name": "ipython",
    "version": 3
   },
   "file_extension": ".py",
   "mimetype": "text/x-python",
   "name": "python",
   "nbconvert_exporter": "python",
   "pygments_lexer": "ipython3",
   "version": "3.6.7"
  }
 },
 "nbformat": 4,
 "nbformat_minor": 2
}
