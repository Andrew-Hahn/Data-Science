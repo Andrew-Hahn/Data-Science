{
 "cells": [
  {
   "cell_type": "markdown",
   "metadata": {},
   "source": [
    "<a id='top'></a>\n",
    "\n",
    "# Data Cleaning and Exploratory Data Analysis \n",
    "***\n",
    "\n",
    "Andrew Hahn \n",
    "\n",
    "***\n",
    "\n"
   ]
  },
  {
   "cell_type": "code",
   "execution_count": 2,
   "metadata": {},
   "outputs": [],
   "source": [
    "import pandas as pd\n",
    "import numpy as np\n",
    "import matplotlib.pylab as plt\n",
    "%matplotlib inline"
   ]
  },
  {
   "cell_type": "markdown",
   "metadata": {},
   "source": [
    "[Back to top](#top)\n",
    "\n",
    "<br>\n",
    "\n",
    "\n",
    "\n",
    "\n",
    "***\n",
    "\n",
    "<img style=\"float: left; width: 200px; padding: 3mm;\" src=\"https://aquarium.org/wp-content/uploads/2015/08/Seahorse-female.jpg\" alt=\"Drawing\"/>  \n",
    "Poseidon is studying seahorses. Locations in each of the Atlantic, Pacific, Indian, Artic, and Southern Oceans are chosen to catch and release seahorses. After being caught, the seahorses are monitored for 24 hours while being fed organic, free-range plankton. The amount of plankton that each seahorse eats is recorded in an app on Poseidon’s phone, called Hippocampus. He collects 6 seahorses from the Arctic Ocean, 36 seahorses from the Pacific Ocean, 12 seahorses from the Indian Ocean, 6 seahorses from the Southern Ocean, and 42 seahorses from the Atlantic Ocean. \n",
    "\n",
    "Poseidon wants to get a sense for the average amount of plankton eaten by seahorses, so he uses the Hippcampus app to randomly choose 1 seahorse from the Arctic, 6 from the Pacific, 2 from the Indian Ocean, 1 from the Southern Ocean, and 7 from the Atlantic Ocean.\n",
    "\n",
    "$$ \\quad $$\n",
    "    \n",
    "**Part A:** Identify the following: \n",
    "\n",
    "- the population \n",
    "- the sample frame \n",
    "- the sample \n",
    "- the type of sample \n",
    "- the quantity of interest"
   ]
  },
  {
   "cell_type": "markdown",
   "metadata": {},
   "source": [
    "Population: All seahorses\n",
    "Sample Frame: Hippocampus app\n",
    "Sample: 1 seahorse from the Arctic, 6 from the Pacific, 2 from the Indian Ocean, 1 from the Southern Ocean, and 7 from the Atlantic Ocean.\n",
    "Type of sample: Stratified\n",
    "Quantity of interest: the average amount of plankton eaten by seahorses"
   ]
  },
  {
   "cell_type": "markdown",
   "metadata": {},
   "source": [
    "**Part B:** Poseidon repeats his sampling, again using the Hippocampus app. Now, he orders the data alphabetically by location and chooses every 3rd data value. \n",
    "    \n",
    "Identify the following: \n",
    "\n",
    "- the population \n",
    "- the sample frame \n",
    "- the sample \n",
    "- the type of sample \n",
    "- the quantity of interest"
   ]
  },
  {
   "cell_type": "markdown",
   "metadata": {},
   "source": [
    "Population: All seahorses\n",
    "Sample Frame: Hippocampus\n",
    "Sample: Every third data value alphabetically\n",
    "Type of sample: Systematic sample\n",
    "Quantity of interest: the average amount of plankton eaten by seahorses"
   ]
  },
  {
   "cell_type": "markdown",
   "metadata": {},
   "source": [
    "[Back to top](#top)\n",
    "\n",
    "<br>\n",
    "\n",
    "\n",
    "***\n",
    "\n",
    "A method to investigate the sensitivity of the sample mean and sample median to extreme outliers and changes in the dataset is to replace one or more elements in a given dataset by a number $y$ and investigate the effect when $y$ changes. To illustrate this, consider the following dataset:\n",
    " \n",
    "$$  4.3 \\quad 5.2 \\quad 5.0 \\quad y \\quad 3.8 \\quad 4.1 \\quad 5.5 \\quad 1.9 $$\n",
    "\n",
    "\n"
   ]
  },
  {
   "cell_type": "markdown",
   "metadata": {},
   "source": [
    "**Part A:** Compute the sample mean and sample median for $y=1.5$. Then compute both quantities again for $y=6$."
   ]
  },
  {
   "cell_type": "code",
   "execution_count": 3,
   "metadata": {},
   "outputs": [
    {
     "name": "stdout",
     "output_type": "stream",
     "text": [
      "When y=1.5, mean=3.9125\n",
      "When y=1.5, median=4.199999999999999\n",
      "When y=6, mean=4.475\n",
      "When y=6, median=4.65\n"
     ]
    }
   ],
   "source": [
    "print(\"When y=1.5, mean=\"+ str(np.mean([4.3,5.2,5.0,1.5,3.8,4.1,5.5,1.9])))\n",
    "print(\"When y=1.5, median=\"+ str(np.median([4.3,5.2,5.0,1.5,3.8,4.1,5.5,1.9])))\n",
    "print(\"When y=6, mean=\"+ str(np.mean([4.3,5.2,5.0,6,3.8,4.1,5.5,1.9])))\n",
    "print(\"When y=6, median=\"+ str(np.median([4.3,5.2,5.0,6,3.8,4.1,5.5,1.9])))"
   ]
  },
  {
   "cell_type": "markdown",
   "metadata": {},
   "source": [
    "**Part B:** Is there a value for $y$ that would make the mean of the data equal to 6? If so, calculate the value of $y$ that makes the mean equal to 6. If not, clearly explain why not.\n",
    "    \n",
    "Is there a value for $y$ that would make the median of the data equal to 6? If so, calculate the values of $y$ that makes the median equal to 6. If not, clearly explain why not."
   ]
  },
  {
   "cell_type": "code",
   "execution_count": 4,
   "metadata": {},
   "outputs": [
    {
     "name": "stdout",
     "output_type": "stream",
     "text": [
      "Y val for mean=6 is 18.2\n"
     ]
    }
   ],
   "source": [
    "OGMean=np.mean([4.3,5.2,5.0,3.8,4.1,5.5,1.9])\n",
    "yVal=(6*8)-(7*OGMean)\n",
    "print(\"Y val for mean=6 is \"+str(yVal))\n"
   ]
  },
  {
   "cell_type": "markdown",
   "metadata": {},
   "source": [
    "There is no value of y such that x=6. This is because there is no way to pick a y such that the average of the middle two numbers (becuase sample size is even), is greater than any value in the set. The median will never be affected by a single outlier to this extent."
   ]
  },
  {
   "cell_type": "markdown",
   "metadata": {},
   "source": [
    "**Part C**: Compute the sample variance and the sample standard deviation for the original dataset given in part A, with $y=6$."
   ]
  },
  {
   "cell_type": "code",
   "execution_count": 5,
   "metadata": {},
   "outputs": [
    {
     "name": "stdout",
     "output_type": "stream",
     "text": [
      "Sample Variance when y=6 is 1.6335714285714287\n",
      "Standard deviation when y=6 is 1.1955647201218345\n"
     ]
    }
   ],
   "source": [
    "import statistics\n",
    "print(\"Sample Variance when y=6 is \"+ str(statistics.variance([4.3,5.2,5.0,6,3.8,4.1,5.5,1.9])))\n",
    "print(\"Standard deviation when y=6 is \"+ str(np.std([4.3,5.2,5.0,6,3.8,4.1,5.5,1.9])))"
   ]
  },
  {
   "cell_type": "markdown",
   "metadata": {},
   "source": [
    "**Part D**: Compute the sample median for the following cases: \n",
    "- $y=5$ \n",
    "- $y=50$ \n",
    "- $y=4.36$ \n",
    "- $y \\to \\infty$ \n",
    "- $y \\to -\\infty$"
   ]
  },
  {
   "cell_type": "code",
   "execution_count": 6,
   "metadata": {},
   "outputs": [
    {
     "name": "stdout",
     "output_type": "stream",
     "text": [
      "When y=5, median=4.65\n",
      "When y=50, median=4.65\n",
      "When y=4.36, median=4.33\n",
      "When y=infinity, median=4.65\n",
      "When y=-infinity, median=4.199999999999999\n"
     ]
    }
   ],
   "source": [
    "print(\"When y=5, median=\"+ str(np.median([4.3,5.2,5.0,5,3.8,4.1,5.5,1.9])))\n",
    "print(\"When y=50, median=\"+ str(np.median([4.3,5.2,5.0,50,3.8,4.1,5.5,1.9])))\n",
    "print(\"When y=4.36, median=\"+ str(np.median([4.3,5.2,5.0,4.36,3.8,4.1,5.5,1.9])))\n",
    "print(\"When y=infinity, median=\"+ str(np.median([4.3,5.2,5.0,float(\"inf\"),3.8,4.1,5.5,1.9])))\n",
    "print(\"When y=-infinity, median=\"+ str(np.median([4.3,5.2,5.0,-float(\"inf\"),3.8,4.1,5.5,1.9])))"
   ]
  },
  {
   "cell_type": "markdown",
   "metadata": {},
   "source": [
    "**Part E**: Think about the previous parts, above, and describe in words or mathematical notation the answers to the following two questions:\n",
    "\n",
    "- By varying $y$, what is the set of all the possible values that the sample mean could take on?\n",
    "- By varying $y$, what is the set of all the possible values that the sample median could take on? Specifically, for what sets of $y$ values does the median take on its different possible values?"
   ]
  },
  {
   "cell_type": "markdown",
   "metadata": {},
   "source": [
    "The sample mean could take on all possible values from -(infinity) to infinity\n",
    "The sample median can take on values only between ~4.2 and 4.65"
   ]
  },
  {
   "cell_type": "markdown",
   "metadata": {},
   "source": [
    "**Part F**: Describe in words or mathematical notation, what happens to the sample standard deviation when $y$ is varied in the following ways: \n",
    " \n",
    "- $y \\to \\infty$ \n",
    "- $y \\to \\bar{x}$\n"
   ]
  },
  {
   "cell_type": "markdown",
   "metadata": {},
   "source": [
    "Std deviation will go to infinity when y=infinity\n",
    "Std deviation will remain unchanged when y equals the average of the existing set"
   ]
  },
  {
   "cell_type": "markdown",
   "metadata": {},
   "source": [
    "[Back to top](#top)\n",
    "\n",
    "\n",
    "\n",
    "***\n",
    "\n",
    "Let $x_1, x_2, \\ldots, x_n$ be $n$ observations of a variable of interest.  Recall that the sample mean $\\bar{x}_n$ and sample variance $s^2_n$ are given by \n",
    "\n",
    "$$\n",
    "\\bar{x}_n = \\frac{1}{n}\\sum_{k=1}^n x_k \\quad \\textrm{and} \\quad s^2_n = \\frac{1}{n-1}\\sum_{k=1}^n \\left( x_k - \\bar{x}_n\\right)^2 \\qquad \\tag{Equation 1}\n",
    "$$\n",
    "\n",
    "where here the subscript $n$'s indicate the number of observations in the sample. Notice that a natural computation of the variance requires two passes over the data: one to compute the mean, and a second to subtract the mean from each observation and compute the sum of squares. It is often useful to be able to compute the variance in a single pass, inspecting each value $x_k$ only once; for example, when the data are being collected without enough storage to keep all the values, or when costs of memory access dominate those of computation. In this problem you will explore two methods for such an _online_ computation of the mean.  \n",
    "\n",
    "**Part A**: Show algebraically that the following relation holds between the mean of the first $n-1$ observations and the mean of all $n$ observations: \n",
    "\n",
    "$$\n",
    "\\bar{x}_n = \\bar{x}_{n-1} + \\frac{x_n - \\bar{x}_{n-1}}{n}\n",
    "$$\n",
    "\n",
    "Note that you can get an expression for $\\bar{x}_{n-1}$ by simply replacing $n$ in Equation 1 above with $n-1$."
   ]
  },
  {
   "cell_type": "markdown",
   "metadata": {},
   "source": [
    "$$\n",
    "\\bar{x}_n = \\frac{1}{n}\\sum_{k=1}^n x_k \\tag{1}\n",
    "$$\n",
    "\n",
    "$$\n",
    "\\bar{x}_n = \\frac{1}{n}\\sum_{k=1}^{n-1} x_k +\\frac{1}{n}x_n \\tag{2}\n",
    "$$\n",
    "\n",
    "$$\n",
    "\\bar{x}_n = \\frac{n-1}{n} (\\frac{1}{n-1}\\sum_{k=1}^{n-1} x_k) +\\frac{1}{n}x_n \\tag{3}\n",
    "$$\n",
    "\n",
    "$$\n",
    "\\bar{x}_n = \\frac{n-1(\\bar{x}_{n-1})}{n} +\\frac{1}{n}x_n \\tag{4}\n",
    "$$\n",
    "\n",
    "$$\n",
    "\\bar{x}_n = \\frac{n(\\bar{x}_{n-1})}{n} +\\frac{1}{n}x_n - \\frac{1}{n}\\bar{x}_{n-1} \\tag{5}\n",
    "$$\n",
    "\n",
    "$$\n",
    "\\bar{x}_n = \\bar{x}_{n-1} + \\frac{x_n - \\bar{x}_{n-1}}{n} \\tag{6}\n",
    "$$"
   ]
  },
  {
   "cell_type": "markdown",
   "metadata": {},
   "source": [
    "**Part B**: Write a function `my_sample_mean` that takes as its input a numpy array and returns the mean of that numpy array using the formulas from class (written above). Write another function `my_sample_var` that takes as its input a numpy array and returns the variance of that numpy array, again using the formulas from class (written above). You may **not** use any built-in sample mean or variance functions."
   ]
  },
  {
   "cell_type": "code",
   "execution_count": 7,
   "metadata": {},
   "outputs": [],
   "source": [
    "import math\n",
    "\n",
    "def my_sample_mean(list):\n",
    "    n=len(list)\n",
    "    sum=0\n",
    "    for i in range(0,n):\n",
    "        sum+=list[i]\n",
    "    return (1/n)*sum\n",
    "\n",
    "def my_sample_var(list):\n",
    "    n=len(list)\n",
    "    mean=my_sample_mean(list)\n",
    "    sum=0\n",
    "    for i in range(0,n):\n",
    "        sum+=(list[i]-mean)*(list[i]-mean)\n",
    "    sum=sum*(1/(n-1))\n",
    "    sum=math.sqrt(sum)\n",
    "    return sum"
   ]
  },
  {
   "cell_type": "markdown",
   "metadata": {},
   "source": [
    "**Part C**: Use your functions from Part B to compute the sample mean and sample variance of the following array, which contains the plankton consumed by a sample of 12 seahorses.\n",
    "\n",
    "`pla = [98, 26, 83, 56, 60, 39, 81, 19, 72, 78, 94, 42]`"
   ]
  },
  {
   "cell_type": "code",
   "execution_count": 8,
   "metadata": {},
   "outputs": [
    {
     "name": "stdout",
     "output_type": "stream",
     "text": [
      "Mean: 62.33333333333333\n",
      "Sample Variance: 26.269004664444484\n"
     ]
    }
   ],
   "source": [
    "pla = [98, 26, 83, 56, 60, 39, 81, 19, 72, 78, 94, 42]\n",
    "print(\"Mean: \"+str(my_sample_mean(pla)))\n",
    "print(\"Sample Variance: \"+str(my_sample_var(pla)))"
   ]
  },
  {
   "cell_type": "markdown",
   "metadata": {},
   "source": [
    "**Part D**: Implement a third function called `update_mean` that implements the formula whose validity you proved in Part A. Note that this function will need to take as its input three things: $x_n$, $\\bar{x}_{n-1}$ and $n$. A function header is provided for you. This function may be auto-graded, so please do not change the given API - the order of inputs matters! If you change it, you might lose points.\n",
    "\n",
    "Use this function to compute the values that you get from taking the mean of the first seahorse's plankton, the first two seahorses, the first three seahorses, and so on up to all of the seahorse data points. Store your plankton means in a numpy array called `pla_means`.  Report all 12 estimates in `pla_means`."
   ]
  },
  {
   "cell_type": "code",
   "execution_count": 9,
   "metadata": {},
   "outputs": [],
   "source": [
    "# Given API:\n",
    "def update_mean(prev_mean, xn, n):\n",
    "    newMean=prev_mean+((xn-prev_mean)/n)\n",
    "    return newMean"
   ]
  },
  {
   "cell_type": "markdown",
   "metadata": {},
   "source": [
    "To ensure your function complies with the given API, run this small test, where we suppose we have a mean of $\\bar{x}_n = 1$ with the first $2$ data points (`prev_mean`), and we update this with the 3rd ($n=3$) data point which is $x_3=2$:"
   ]
  },
  {
   "cell_type": "code",
   "execution_count": 10,
   "metadata": {},
   "outputs": [],
   "source": [
    "assert update_mean(1,2,3)==4/3, \"Warning: function seems broken.\""
   ]
  },
  {
   "cell_type": "code",
   "execution_count": null,
   "metadata": {},
   "outputs": [],
   "source": []
  },
  {
   "cell_type": "markdown",
   "metadata": {},
   "source": [
    "[Back to top](#top)\n",
    "\n",
    "\n",
    "\n",
    "\n",
    "*** \n",
    "Some claim that the final hours aboard the RMS Titanic were marked by \"class warfare\" in which the people with first-class tickets took all the good spots on the lifeboats; others claim that the final hours were characterized by male chivalry, in which the men valiantly gave up their positions in the boats and succumbed bravely to the depths of the Atlantic. \n",
    "\n",
    "We have the data on survival rates by class and by sex, so let's figure out whether there is evidence for these scenarios. Access the Titanic data in `titanic_data.csv` and store it in a Pandas DataFrame. The data contains information pertaining to class status (**Pclass**), survival (**Survived**), and gender (**Sex**) of passengers, among other things. Be sure to use the `titanic_data.csv` data set, *not* the `clean_titanic_data` file from the in-class notebook."
   ]
  },
  {
   "cell_type": "code",
   "execution_count": 11,
   "metadata": {},
   "outputs": [
    {
     "data": {
      "text/html": [
       "<div>\n",
       "<style scoped>\n",
       "    .dataframe tbody tr th:only-of-type {\n",
       "        vertical-align: middle;\n",
       "    }\n",
       "\n",
       "    .dataframe tbody tr th {\n",
       "        vertical-align: top;\n",
       "    }\n",
       "\n",
       "    .dataframe thead th {\n",
       "        text-align: right;\n",
       "    }\n",
       "</style>\n",
       "<table border=\"1\" class=\"dataframe\">\n",
       "  <thead>\n",
       "    <tr style=\"text-align: right;\">\n",
       "      <th></th>\n",
       "      <th>PassengerId</th>\n",
       "      <th>Survived</th>\n",
       "      <th>Pclass</th>\n",
       "      <th>Name</th>\n",
       "      <th>Sex</th>\n",
       "      <th>Age</th>\n",
       "      <th>SibSp</th>\n",
       "      <th>Parch</th>\n",
       "      <th>Ticket</th>\n",
       "      <th>Fare</th>\n",
       "      <th>Cabin</th>\n",
       "      <th>Embarked</th>\n",
       "    </tr>\n",
       "  </thead>\n",
       "  <tbody>\n",
       "    <tr>\n",
       "      <th>0</th>\n",
       "      <td>1</td>\n",
       "      <td>0</td>\n",
       "      <td>3</td>\n",
       "      <td>Braund, Mr. Owen Harris</td>\n",
       "      <td>male</td>\n",
       "      <td>36.0</td>\n",
       "      <td>1</td>\n",
       "      <td>0</td>\n",
       "      <td>A/5 21171</td>\n",
       "      <td>7.2500</td>\n",
       "      <td>NaN</td>\n",
       "      <td>S</td>\n",
       "    </tr>\n",
       "    <tr>\n",
       "      <th>1</th>\n",
       "      <td>2</td>\n",
       "      <td>1</td>\n",
       "      <td>1</td>\n",
       "      <td>Cumings, Mrs. John Bradley (Florence Briggs Th...</td>\n",
       "      <td>female</td>\n",
       "      <td>18.0</td>\n",
       "      <td>1</td>\n",
       "      <td>0</td>\n",
       "      <td>PC 17599</td>\n",
       "      <td>71.2833</td>\n",
       "      <td>C85</td>\n",
       "      <td>C</td>\n",
       "    </tr>\n",
       "    <tr>\n",
       "      <th>2</th>\n",
       "      <td>3</td>\n",
       "      <td>1</td>\n",
       "      <td>3</td>\n",
       "      <td>Heikkinen, Miss. Laina</td>\n",
       "      <td>female</td>\n",
       "      <td>14.0</td>\n",
       "      <td>0</td>\n",
       "      <td>0</td>\n",
       "      <td>STON/O2. 3101282</td>\n",
       "      <td>7.9250</td>\n",
       "      <td>NaN</td>\n",
       "      <td>S</td>\n",
       "    </tr>\n",
       "    <tr>\n",
       "      <th>3</th>\n",
       "      <td>4</td>\n",
       "      <td>1</td>\n",
       "      <td>1</td>\n",
       "      <td>Futrelle, Mrs. Jacques Heath (Lily May Peel)</td>\n",
       "      <td>female</td>\n",
       "      <td>27.0</td>\n",
       "      <td>1</td>\n",
       "      <td>0</td>\n",
       "      <td>113803</td>\n",
       "      <td>53.1000</td>\n",
       "      <td>C123</td>\n",
       "      <td>S</td>\n",
       "    </tr>\n",
       "    <tr>\n",
       "      <th>4</th>\n",
       "      <td>5</td>\n",
       "      <td>0</td>\n",
       "      <td>3</td>\n",
       "      <td>Allen, Mr. William Henry</td>\n",
       "      <td>male</td>\n",
       "      <td>63.0</td>\n",
       "      <td>0</td>\n",
       "      <td>0</td>\n",
       "      <td>373450</td>\n",
       "      <td>8.0500</td>\n",
       "      <td>NaN</td>\n",
       "      <td>S</td>\n",
       "    </tr>\n",
       "  </tbody>\n",
       "</table>\n",
       "</div>"
      ],
      "text/plain": [
       "   PassengerId  Survived  Pclass  \\\n",
       "0            1         0       3   \n",
       "1            2         1       1   \n",
       "2            3         1       3   \n",
       "3            4         1       1   \n",
       "4            5         0       3   \n",
       "\n",
       "                                                Name     Sex   Age  SibSp  \\\n",
       "0                            Braund, Mr. Owen Harris    male  36.0      1   \n",
       "1  Cumings, Mrs. John Bradley (Florence Briggs Th...  female  18.0      1   \n",
       "2                             Heikkinen, Miss. Laina  female  14.0      0   \n",
       "3       Futrelle, Mrs. Jacques Heath (Lily May Peel)  female  27.0      1   \n",
       "4                           Allen, Mr. William Henry    male  63.0      0   \n",
       "\n",
       "   Parch            Ticket     Fare Cabin Embarked  \n",
       "0      0         A/5 21171   7.2500   NaN        S  \n",
       "1      0          PC 17599  71.2833   C85        C  \n",
       "2      0  STON/O2. 3101282   7.9250   NaN        S  \n",
       "3      0            113803  53.1000  C123        S  \n",
       "4      0            373450   8.0500   NaN        S  "
      ]
     },
     "execution_count": 11,
     "metadata": {},
     "output_type": "execute_result"
    }
   ],
   "source": [
    "df = pd.read_csv(\"titanic_data.csv\")\n",
    "df.head()"
   ]
  },
  {
   "cell_type": "markdown",
   "metadata": {},
   "source": [
    "**Part A**: Consider the two claims: class warfare, and male chivalry. Suppose that class warfare occurred in the final hours aboard the Titanic.  What patterns might you expect to see in the data?  Suppose that male chivalry was widespread during the final hours instead. What patterns might you then expect to see in the data?  Explain both of these hypothesized patterns in words. Are these two hypotheses mutually exclusive or not?"
   ]
  },
  {
   "cell_type": "markdown",
   "metadata": {},
   "source": [
    "If class warefare was the driving factor behind survival, than we would expect first class passengers to be more likely to survive relative to thier population size compared to 3rd class passengers. If male chivalry were the dominant factor, we could expect women and younger individuals to survive more relative to their population sizes regardless of their class. The hypothesis are not mutually exclusive, for example, as a sterotype, male members may have been more exposed to the doctrine of chivalry, and thus more likely to abide by it and sacrifice themselves than males who had less formal education in the gentleman class."
   ]
  },
  {
   "cell_type": "markdown",
   "metadata": {},
   "source": [
    "**Part B**: Use Pandas (see: `dropna`) methods to create a clean data set by removing any rows from the DataFrame that are missing values corresponding to **Survived**, **Pclass**, **Age**, or **Sex**. Store the clean data in a DataFrame called dfTitanic. Be sure to show any exploratory work determining if/where there are rows with missing values."
   ]
  },
  {
   "cell_type": "code",
   "execution_count": 12,
   "metadata": {},
   "outputs": [
    {
     "data": {
      "text/html": [
       "<div>\n",
       "<style scoped>\n",
       "    .dataframe tbody tr th:only-of-type {\n",
       "        vertical-align: middle;\n",
       "    }\n",
       "\n",
       "    .dataframe tbody tr th {\n",
       "        vertical-align: top;\n",
       "    }\n",
       "\n",
       "    .dataframe thead th {\n",
       "        text-align: right;\n",
       "    }\n",
       "</style>\n",
       "<table border=\"1\" class=\"dataframe\">\n",
       "  <thead>\n",
       "    <tr style=\"text-align: right;\">\n",
       "      <th></th>\n",
       "      <th>PassengerId</th>\n",
       "      <th>Survived</th>\n",
       "      <th>Pclass</th>\n",
       "      <th>Name</th>\n",
       "      <th>Sex</th>\n",
       "      <th>Age</th>\n",
       "      <th>SibSp</th>\n",
       "      <th>Parch</th>\n",
       "      <th>Ticket</th>\n",
       "      <th>Fare</th>\n",
       "      <th>Cabin</th>\n",
       "      <th>Embarked</th>\n",
       "    </tr>\n",
       "  </thead>\n",
       "  <tbody>\n",
       "    <tr>\n",
       "      <th>1</th>\n",
       "      <td>2</td>\n",
       "      <td>1</td>\n",
       "      <td>1</td>\n",
       "      <td>Cumings, Mrs. John Bradley (Florence Briggs Th...</td>\n",
       "      <td>female</td>\n",
       "      <td>18.0</td>\n",
       "      <td>1</td>\n",
       "      <td>0</td>\n",
       "      <td>PC 17599</td>\n",
       "      <td>71.2833</td>\n",
       "      <td>C85</td>\n",
       "      <td>C</td>\n",
       "    </tr>\n",
       "    <tr>\n",
       "      <th>3</th>\n",
       "      <td>4</td>\n",
       "      <td>1</td>\n",
       "      <td>1</td>\n",
       "      <td>Futrelle, Mrs. Jacques Heath (Lily May Peel)</td>\n",
       "      <td>female</td>\n",
       "      <td>27.0</td>\n",
       "      <td>1</td>\n",
       "      <td>0</td>\n",
       "      <td>113803</td>\n",
       "      <td>53.1000</td>\n",
       "      <td>C123</td>\n",
       "      <td>S</td>\n",
       "    </tr>\n",
       "    <tr>\n",
       "      <th>6</th>\n",
       "      <td>7</td>\n",
       "      <td>0</td>\n",
       "      <td>1</td>\n",
       "      <td>McCarthy, Mr. Timothy J</td>\n",
       "      <td>male</td>\n",
       "      <td>39.0</td>\n",
       "      <td>0</td>\n",
       "      <td>0</td>\n",
       "      <td>17463</td>\n",
       "      <td>51.8625</td>\n",
       "      <td>E46</td>\n",
       "      <td>S</td>\n",
       "    </tr>\n",
       "    <tr>\n",
       "      <th>10</th>\n",
       "      <td>11</td>\n",
       "      <td>1</td>\n",
       "      <td>3</td>\n",
       "      <td>Sandstrom, Miss. Marguerite Rut</td>\n",
       "      <td>female</td>\n",
       "      <td>42.0</td>\n",
       "      <td>1</td>\n",
       "      <td>1</td>\n",
       "      <td>PP 9549</td>\n",
       "      <td>16.7000</td>\n",
       "      <td>G6</td>\n",
       "      <td>S</td>\n",
       "    </tr>\n",
       "    <tr>\n",
       "      <th>11</th>\n",
       "      <td>12</td>\n",
       "      <td>0</td>\n",
       "      <td>1</td>\n",
       "      <td>Bonnell, Miss. Elizabeth</td>\n",
       "      <td>female</td>\n",
       "      <td>30.0</td>\n",
       "      <td>0</td>\n",
       "      <td>0</td>\n",
       "      <td>113783</td>\n",
       "      <td>26.5500</td>\n",
       "      <td>C103</td>\n",
       "      <td>S</td>\n",
       "    </tr>\n",
       "  </tbody>\n",
       "</table>\n",
       "</div>"
      ],
      "text/plain": [
       "    PassengerId  Survived  Pclass  \\\n",
       "1             2         1       1   \n",
       "3             4         1       1   \n",
       "6             7         0       1   \n",
       "10           11         1       3   \n",
       "11           12         0       1   \n",
       "\n",
       "                                                 Name     Sex   Age  SibSp  \\\n",
       "1   Cumings, Mrs. John Bradley (Florence Briggs Th...  female  18.0      1   \n",
       "3        Futrelle, Mrs. Jacques Heath (Lily May Peel)  female  27.0      1   \n",
       "6                             McCarthy, Mr. Timothy J    male  39.0      0   \n",
       "10                    Sandstrom, Miss. Marguerite Rut  female  42.0      1   \n",
       "11                           Bonnell, Miss. Elizabeth  female  30.0      0   \n",
       "\n",
       "    Parch    Ticket     Fare Cabin Embarked  \n",
       "1       0  PC 17599  71.2833   C85        C  \n",
       "3       0    113803  53.1000  C123        S  \n",
       "6       0     17463  51.8625   E46        S  \n",
       "10      1   PP 9549  16.7000    G6        S  \n",
       "11      0    113783  26.5500  C103        S  "
      ]
     },
     "execution_count": 12,
     "metadata": {},
     "output_type": "execute_result"
    }
   ],
   "source": [
    "dfTitanic =df.dropna()\n",
    "dfTitanic.head()"
   ]
  },
  {
   "cell_type": "markdown",
   "metadata": {},
   "source": [
    "**Part C**: Compute the fraction of survivors according to class and gender. There are 3 passenger classes and 2 sexes in the data set, so you should report all 6 possible combinations.  Then, answer 3 questions:\n",
    "* **(i)** Within each passenger class, were men or women more/less/equally likely to survive?\n",
    "* **(ii)**  Looking at only the male or only the female passengers, how is passenger class related to the category's survival rate?\n",
    "* **(iii)**  Did men in first class or women in third class have a higher survival rate? "
   ]
  },
  {
   "cell_type": "code",
   "execution_count": 13,
   "metadata": {},
   "outputs": [
    {
     "name": "stdout",
     "output_type": "stream",
     "text": [
      " PART ONE: \n",
      "Total first class survied: 94\n",
      "First class men survived: 31\n",
      "First class women survived: 63\n",
      "First class women were roughly twice as likely to survive as first class men \n",
      "\n",
      "Total second class survied: 11\n",
      "Second class men survived: 4\n",
      "Second  class women survived: 7\n",
      "Second class women were roughly twice as likely to survive as second class men \n",
      "\n",
      "Total third class survied: 6\n",
      "Third class men survived: 2\n",
      "Third class women survived: 4\n",
      "Third class women were roughly twice as likely to survive as third class men \n",
      "\n",
      "\n",
      " PART TWO:\n",
      "First compute total men in each class:\n",
      "Total first class men: 72\n",
      "Total second class men: 6\n",
      "Total third class men: 6\n",
      "Now calculate survival rate by class: \n",
      "\n",
      "First class men survived 43.05555555555556% of the time\n",
      "Second class men survived 66.66666666666666% of the time\n",
      "Third class men survived 33.33333333333333% of the time\n",
      "While it is tempting to draw a correlation between class and survival here, it is more likely \n",
      "given the randomness here, that class had little to do with the survival rate percentage of males\n",
      "\n",
      " PART THREE:\n",
      "We know that first class males had a survival rate of 43.05555555555556%\n",
      "As there are 6 third class women, and 4 survived\n",
      "Third class women had a 66.6666666% chance of survival, and were thus more likely to survive than first class men\n"
     ]
    }
   ],
   "source": [
    "print(\" PART ONE: \")\n",
    "first_class_survived=dfTitanic[dfTitanic['Pclass']==1]['Survived'].sum()\n",
    "first_class_male_survived= dfTitanic[(dfTitanic['Pclass'] == 1) & (dfTitanic['Sex'] =='male' ) &(dfTitanic['Survived']==1)].sum()['Survived']\n",
    "first_class_female_survived= dfTitanic[(dfTitanic['Pclass'] == 1) & (dfTitanic['Sex'] =='female' ) &(dfTitanic['Survived']==1)].sum()['Survived']\n",
    "print(\"Total first class survied: \"+str(first_class_survived))\n",
    "print(\"First class men survived: \"+str(first_class_male_survived))\n",
    "print(\"First class women survived: \"+str(first_class_female_survived))\n",
    "print(\"First class women were roughly twice as likely to survive as first class men \\n\")\n",
    "\n",
    "second_class_survived=dfTitanic[dfTitanic['Pclass']==2]['Survived'].sum()\n",
    "second_class_male_survived= dfTitanic[(dfTitanic['Pclass'] == 2) & (dfTitanic['Sex'] =='male' ) &(dfTitanic['Survived']==1)].sum()['Survived']\n",
    "second_class_female_survived= dfTitanic[(dfTitanic['Pclass'] == 2) & (dfTitanic['Sex'] =='female' ) &(dfTitanic['Survived']==1)].sum()['Survived']\n",
    "print(\"Total second class survied: \"+str(second_class_survived))\n",
    "print(\"Second class men survived: \"+str(second_class_male_survived))\n",
    "print(\"Second  class women survived: \"+str(second_class_female_survived))\n",
    "print(\"Second class women were roughly twice as likely to survive as second class men \\n\")\n",
    "\n",
    "third_class_survived=dfTitanic[dfTitanic['Pclass']==3]['Survived'].sum()\n",
    "third_class_male_survived= dfTitanic[(dfTitanic['Pclass'] == 3) & (dfTitanic['Sex'] =='male' ) &(dfTitanic['Survived']==1)].sum()['Survived']\n",
    "third_class_female_survived= dfTitanic[(dfTitanic['Pclass'] == 3) & (dfTitanic['Sex'] =='female' ) &(dfTitanic['Survived']==1)].sum()['Survived']\n",
    "print(\"Total third class survied: \"+str(third_class_survived))\n",
    "print(\"Third class men survived: \"+str(third_class_male_survived))\n",
    "print(\"Third class women survived: \"+str(third_class_female_survived))\n",
    "print(\"Third class women were roughly twice as likely to survive as third class men \\n\")\n",
    "male_survived = df[df['Sex'].str.match('male')]['Survived'].sum()\n",
    "female_survived =df[df['Sex'].str.match('female')]['Survived'].sum()\n",
    "print(\"\\n PART TWO:\")\n",
    "print(\"First compute total men in each class:\")\n",
    "total_first_men=len(dfTitanic[(dfTitanic['Pclass']==1) & (dfTitanic['Sex']=='male')])\n",
    "print(\"Total first class men: \"+str(total_first_men))\n",
    "total_second_men=len(dfTitanic[(dfTitanic['Pclass']==2) & (dfTitanic['Sex']=='male')])\n",
    "print(\"Total second class men: \"+str(total_second_men))\n",
    "total_third_men=len(dfTitanic[(dfTitanic['Pclass']==3) & (dfTitanic['Sex']=='male')])\n",
    "print(\"Total third class men: \"+str(total_third_men))\n",
    "print(\"Now calculate survival rate by class: \\n\")\n",
    "first_men_survival_perc=first_class_male_survived/total_first_men\n",
    "print(\"First class men survived \"+str(first_men_survival_perc*100)+\"% of the time\")\n",
    "second_men_survival_perc=second_class_male_survived/total_second_men\n",
    "print(\"Second class men survived \"+str(second_men_survival_perc*100)+\"% of the time\")\n",
    "third_men_survival_perc=third_class_male_survived/total_third_men\n",
    "print(\"Third class men survived \"+str(third_men_survival_perc*100)+\"% of the time\")\n",
    "print(\"While it is tempting to draw a correlation between class and survival here, it is more likely \\ngiven the randomness here, that class had little to do with the survival rate percentage of males\")\n",
    "print(\"\\n PART THREE:\")\n",
    "print(\"We know that first class males had a survival rate of \"+str(first_men_survival_perc*100)+\"%\")\n",
    "total_third_women=len(dfTitanic[(dfTitanic['Pclass']==3) & (dfTitanic['Sex']=='female')])\n",
    "print(\"As there are \"+str(total_third_women)+\" third class women, and \"+str(third_class_female_survived)+\" survived\")\n",
    "print(\"Third class women had a 66.6666666% chance of survival, and were thus more likely to survive than first class men\")"
   ]
  },
  {
   "cell_type": "markdown",
   "metadata": {},
   "source": [
    "**Part D**: Plot a histogram of all of the passenger ages, using the bin edges $[0,5,10,\\ldots,70,75,80]$ defined by `my_bins` below. How would you characterize the distribution of **AGE**? (By _characterize_ we mean that you should indicate whether the data are unimodal, bimodal, multimodal, symmetric, negatively skewed, positively skewed, etc.)  Be sure to label your axes and use your figure to justify your conclusions."
   ]
  },
  {
   "cell_type": "code",
   "execution_count": 14,
   "metadata": {
    "collapsed": true
   },
   "outputs": [],
   "source": [
    "my_bins = range(0,85,5)"
   ]
  },
  {
   "cell_type": "code",
   "execution_count": 15,
   "metadata": {},
   "outputs": [
    {
     "data": {
      "text/plain": [
       "Text(0,0.5,'# of people')"
      ]
     },
     "execution_count": 15,
     "metadata": {},
     "output_type": "execute_result"
    },
    {
     "data": {
      "image/png": "[encoded data removed]",
      "text/plain": [
       "<Figure size 1080x720 with 1 Axes>"
      ]
     },
     "metadata": {
      "needs_background": "light"
     },
     "output_type": "display_data"
    }
   ],
   "source": [
    "fig, ax=plt.subplots(figsize=(15,10))\n",
    "dfTitanic.hist(column='Age', ax=ax, edgecolor='black',bins=my_bins)\n",
    "ax.set_title('Passenger Ages')\n",
    "ax.set_xlabel('Age')\n",
    "ax.set_ylabel('# of people')"
   ]
  },
  {
   "cell_type": "markdown",
   "metadata": {},
   "source": [
    "It would appear that age is primarily unimodal around the age of roughly 28. The data is negatively skewed towards the younger side."
   ]
  },
  {
   "cell_type": "markdown",
   "metadata": {},
   "source": [
    "**Part E**: One might wonder how a passenger's age is related to the likelihood that they would survive the Titanic disaster. To answer this question graphically, plot two density histograms on the same set of axes, showing the distribution of the ages of passengers who survived, and the distribution of the ages of passengers who did not. \n",
    "* Use the bin edges $[0,5,10,\\ldots,70,75,80]$ for both histograms.\n",
    "* This problem is about a *ship* sinking in the *ocean*, so use **coral** and **seagreen** as the facecolors for your histogram boxes.\n",
    "* Plot both histograms on a single set of axes (there should be only one panel in the figure you create), but use Matplotlib/Pandas plotting functionality to make the faces of the histogram boxes somewhat transparent, so both histograms are visible.\n",
    "* Include a legend and label your axes.\n",
    "* Comment on the results. Does your figure suggest that some age ranges are more or less likely to have survived the disaster than other ages? Fully explain your reasoning and use your figure to justify your conclusions.\n",
    "* If you noticed some relationship between age and likelihood of survival, what is one possible explanation?"
   ]
  },
  {
   "cell_type": "code",
   "execution_count": 25,
   "metadata": {},
   "outputs": [
    {
     "data": {
      "text/plain": [
       "<matplotlib.legend.Legend at 0x7ff60c5460b8>"
      ]
     },
     "execution_count": 25,
     "metadata": {},
     "output_type": "execute_result"
    },
    {
     "data": {
      "image/png": "[encoded data removed]",
      "text/plain": [
       "<Figure size 1800x1440 with 1 Axes>"
      ]
     },
     "metadata": {
      "needs_background": "light"
     },
     "output_type": "display_data"
    }
   ],
   "source": [
    "survived = dfTitanic[dfTitanic['Survived'] ==1]\n",
    "deceased = dfTitanic[dfTitanic['Survived'] ==0]\n",
    "\n",
    "fig = plt.figure(figsize=(25,20))\n",
    "ax = fig.add_subplot(222)\n",
    "ax.hist(survived['Age'], color = 'coral', bins = my_bins, label='Survived', edgecolor='black', density=True,alpha=0.5)\n",
    "ax.hist(deceased['Age'], color = 'seagreen', bins = my_bins,label='Deceased', edgecolor='black', density=True,alpha=0.5)\n",
    "ax.set_title('Titanic Survival by Age Group')\n",
    "ax.set_xlabel('Ages in Years')\n",
    "ax.set_ylabel('People Survived (by Density)')\n",
    "ax.legend()"
   ]
  },
  {
   "cell_type": "markdown",
   "metadata": {},
   "source": [
    "From this data, it appears that young adults were more likely to survive than older individuals. This could be due to a variety of factors, such as physical fitness, lack of respect for certain social norms, preference given to them in lifeboat seating, or other factors not listed."
   ]
  },
  {
   "cell_type": "markdown",
   "metadata": {},
   "source": [
    "**Part F:** In Part E, we plotted two *density* histograms, showing the distributions of ages of passengers that survived or did not survive the Titanic disaster. Why would it be misleading for us to have plotted these as *frequency* histograms instead?"
   ]
  },
  {
   "cell_type": "markdown",
   "metadata": {},
   "source": [
    "As we saw in Part D, the ages of people are not uniformly distribuited. A frequency histogram would be deceptive as it might show that 25 year olds were very likely to surivive, while in reality they were less likely to survive as a percentage than say children, but there were simply far more of them, increasing the frequency of suriving passengers from this class."
   ]
  },
  {
   "cell_type": "markdown",
   "metadata": {},
   "source": [
    "**Part G**: Do the data suggest class warfare, male chivalry, or some combination of both characteristics in the final hours aboard the Titanic?  Justify your conclusion based on the computations done above, or do any other analysis that you like, but be sure to clearly justify your conclusion. "
   ]
  },
  {
   "cell_type": "markdown",
   "metadata": {},
   "source": [
    "The data shows that those in higher classes had a larger number of survivors than those in lower classes. However, within each class as a percentage, survival rate was relatively constant. This suggests class wasn't very correlated with survival. Females, on the other hand, were twice as likely to survive as their male counterparts. This suggests that male chivalry might have had a larger correlation with survival as the survival of females may have been prioritised over the survival of males."
   ]
  },
  {
   "cell_type": "markdown",
   "metadata": {},
   "source": [
    "[Back to top](#top)\n",
    "\n",
    "***\n",
    "\n",
    "NOAA's Physical Sciences division (https://www.esrl.noaa.gov/psd) houses an enormous amount of weather data.  Load `hw1BoulderPPT.csv` from the course page for the last 100 years of monthly precipitation data from Boulder.\n",
    "\n",
    "#### a) When the amount of precipitation was nonzero but too small to be recorded, this data set recorded `tr`.  Replace these with zeroes."
   ]
  },
  {
   "cell_type": "code",
   "execution_count": 17,
   "metadata": {},
   "outputs": [
    {
     "data": {
      "text/html": [
       "<div>\n",
       "<style scoped>\n",
       "    .dataframe tbody tr th:only-of-type {\n",
       "        vertical-align: middle;\n",
       "    }\n",
       "\n",
       "    .dataframe tbody tr th {\n",
       "        vertical-align: top;\n",
       "    }\n",
       "\n",
       "    .dataframe thead th {\n",
       "        text-align: right;\n",
       "    }\n",
       "</style>\n",
       "<table border=\"1\" class=\"dataframe\">\n",
       "  <thead>\n",
       "    <tr style=\"text-align: right;\">\n",
       "      <th></th>\n",
       "      <th>Year</th>\n",
       "      <th>JAN</th>\n",
       "      <th>FEB</th>\n",
       "      <th>MAR</th>\n",
       "      <th>APR</th>\n",
       "      <th>MAY</th>\n",
       "      <th>JUN</th>\n",
       "      <th>JUL</th>\n",
       "      <th>AUG</th>\n",
       "      <th>SEP</th>\n",
       "      <th>OCT</th>\n",
       "      <th>NOV</th>\n",
       "      <th>DEC</th>\n",
       "      <th>YEAR TOTAL</th>\n",
       "    </tr>\n",
       "  </thead>\n",
       "  <tbody>\n",
       "    <tr>\n",
       "      <th>0</th>\n",
       "      <td>1919</td>\n",
       "      <td>0</td>\n",
       "      <td>0.32</td>\n",
       "      <td>1.49</td>\n",
       "      <td>1.65</td>\n",
       "      <td>0.88</td>\n",
       "      <td>1.1</td>\n",
       "      <td>7.46</td>\n",
       "      <td>0.95</td>\n",
       "      <td>0.88</td>\n",
       "      <td>1.31</td>\n",
       "      <td>2.07</td>\n",
       "      <td>0.50</td>\n",
       "      <td>18.61</td>\n",
       "    </tr>\n",
       "    <tr>\n",
       "      <th>1</th>\n",
       "      <td>1920</td>\n",
       "      <td>1.22</td>\n",
       "      <td>1.39</td>\n",
       "      <td>0.58</td>\n",
       "      <td>4.07</td>\n",
       "      <td>1.61</td>\n",
       "      <td>1.87</td>\n",
       "      <td>0.68</td>\n",
       "      <td>2.55</td>\n",
       "      <td>0.73</td>\n",
       "      <td>2.43</td>\n",
       "      <td>0.72</td>\n",
       "      <td>0.85</td>\n",
       "      <td>18.70</td>\n",
       "    </tr>\n",
       "    <tr>\n",
       "      <th>2</th>\n",
       "      <td>1921</td>\n",
       "      <td>0.11</td>\n",
       "      <td>0.31</td>\n",
       "      <td>0.77</td>\n",
       "      <td>4.81</td>\n",
       "      <td>1.5</td>\n",
       "      <td>3.62</td>\n",
       "      <td>1.53</td>\n",
       "      <td>2.00</td>\n",
       "      <td>0.17</td>\n",
       "      <td>1.13</td>\n",
       "      <td>0.98</td>\n",
       "      <td>1.46</td>\n",
       "      <td>18.39</td>\n",
       "    </tr>\n",
       "    <tr>\n",
       "      <th>3</th>\n",
       "      <td>1922</td>\n",
       "      <td>0.63</td>\n",
       "      <td>0.59</td>\n",
       "      <td>0.81</td>\n",
       "      <td>3.32</td>\n",
       "      <td>1.02</td>\n",
       "      <td>0.62</td>\n",
       "      <td>1.04</td>\n",
       "      <td>1.50</td>\n",
       "      <td>0</td>\n",
       "      <td>1.13</td>\n",
       "      <td>2.58</td>\n",
       "      <td>0.56</td>\n",
       "      <td>13.80</td>\n",
       "    </tr>\n",
       "    <tr>\n",
       "      <th>4</th>\n",
       "      <td>1923</td>\n",
       "      <td>0</td>\n",
       "      <td>1.71</td>\n",
       "      <td>2.29</td>\n",
       "      <td>1.29</td>\n",
       "      <td>3.47</td>\n",
       "      <td>4.44</td>\n",
       "      <td>2.46</td>\n",
       "      <td>2.68</td>\n",
       "      <td>0.84</td>\n",
       "      <td>5.43</td>\n",
       "      <td>0.4</td>\n",
       "      <td>0.88</td>\n",
       "      <td>25.89</td>\n",
       "    </tr>\n",
       "  </tbody>\n",
       "</table>\n",
       "</div>"
      ],
      "text/plain": [
       "   Year   JAN   FEB   MAR   APR   MAY   JUN   JUL   AUG   SEP   OCT   NOV  \\\n",
       "0  1919     0  0.32  1.49  1.65  0.88   1.1  7.46  0.95  0.88  1.31  2.07   \n",
       "1  1920  1.22  1.39  0.58  4.07  1.61  1.87  0.68  2.55  0.73  2.43  0.72   \n",
       "2  1921  0.11  0.31  0.77  4.81   1.5  3.62  1.53  2.00  0.17  1.13  0.98   \n",
       "3  1922  0.63  0.59  0.81  3.32  1.02  0.62  1.04  1.50     0  1.13  2.58   \n",
       "4  1923     0  1.71  2.29  1.29  3.47  4.44  2.46  2.68  0.84  5.43   0.4   \n",
       "\n",
       "    DEC  YEAR TOTAL  \n",
       "0  0.50       18.61  \n",
       "1  0.85       18.70  \n",
       "2  1.46       18.39  \n",
       "3  0.56       13.80  \n",
       "4  0.88       25.89  "
      ]
     },
     "execution_count": 17,
     "metadata": {},
     "output_type": "execute_result"
    }
   ],
   "source": [
    "dfW = pd.read_csv(\"hw1BoulderPPT.csv\")\n",
    "dfWeather=dfW.replace('Tr',0.0)\n",
    "dfWeather.head()"
   ]
  },
  {
   "cell_type": "markdown",
   "metadata": {},
   "source": [
    "#### b) Generate a series of 12 box plots with month as the x axis and precipitation on the y-axis."
   ]
  },
  {
   "cell_type": "code",
   "execution_count": 18,
   "metadata": {},
   "outputs": [
    {
     "data": {
      "image/png": "[encoded data removed]",
      "text/plain": [
       "<Figure size 432x288 with 1 Axes>"
      ]
     },
     "metadata": {
      "needs_background": "light"
     },
     "output_type": "display_data"
    }
   ],
   "source": [
    "df=dfWeather.astype(float)\n",
    "Box=df.boxplot(column=['JAN','FEB','MAR','APR','MAY','JUN','JUL','AUG','SEP','OCT','NOV','DEC'])"
   ]
  },
  {
   "cell_type": "markdown",
   "metadata": {},
   "source": [
    "\n",
    "#### c) Atmospheric scientists love to group months seasonally, breaking the year into a Winter season including December, January, February; a Spring included March, April, and May; and so forth. Generate a series of 4 box plots with season as the x axis and precipitation on the y-axis.  How does folding March-April-May into one variable change the mean and standard deviation compared to the data for just April?\n",
    "\n"
   ]
  },
  {
   "cell_type": "code",
   "execution_count": 19,
   "metadata": {},
   "outputs": [
    {
     "data": {
      "image/png": "[encoded data removed]",
      "text/plain": [
       "<Figure size 432x288 with 1 Axes>"
      ]
     },
     "metadata": {
      "needs_background": "light"
     },
     "output_type": "display_data"
    }
   ],
   "source": [
    "df['Winter']=df['DEC'] + df['JAN']+ df['FEB']\n",
    "df['Spring']=df['MAR'] + df['APR']+ df['MAR']\n",
    "df['Summer']=df['JUN'] + df['JUL']+ df['AUG']\n",
    "df['Fall']=df['SEP'] + df['OCT']+ df['NOV']\n",
    "seasonBox=df.boxplot(column=['Winter','Spring','Summer','Fall'])"
   ]
  },
  {
   "cell_type": "markdown",
   "metadata": {},
   "source": [
    "#### d) Create a density histogram of the September precipitation.  Classify and describe this histogram.  Find the data point associated with September, 2013, and recreate your histogram with that value in a different color or otherwise clearly marked."
   ]
  },
  {
   "cell_type": "code",
   "execution_count": 20,
   "metadata": {},
   "outputs": [
    {
     "data": {
      "text/plain": [
       "<matplotlib.lines.Line2D at 0x7ff60c62ea90>"
      ]
     },
     "execution_count": 20,
     "metadata": {},
     "output_type": "execute_result"
    },
    {
     "data": {
      "image/png": "[encoded data removed]",
      "text/plain": [
       "<Figure size 1080x720 with 1 Axes>"
      ]
     },
     "metadata": {
      "needs_background": "light"
     },
     "output_type": "display_data"
    }
   ],
   "source": [
    "sep=df['SEP']\n",
    "fig, ax = plt.subplots(figsize=(15,10))\n",
    "ax.hist(sep,color ='purple',edgecolor='green',density=True)\n",
    "\n",
    "xVal=df['SEP'][94]\n",
    "plt.axvline(x=xVal,color='red')\n"
   ]
  },
  {
   "cell_type": "raw",
   "metadata": {},
   "source": [
    "The red line here shows the value on Sept, 2013. From this histogram, we can see that the vast majority of the time it rained less than 5 units, and Sept of 2013 represented something of an outlier."
   ]
  },
  {
   "cell_type": "markdown",
   "metadata": {},
   "source": [
    "#### e) Calculute the mean and standard deviation of the September precipitation in this set.  Create a Tukey 5 number summary of the September precipitation.  What are a couple of advantages and disadvantages of these numerical summaries compared to each other on this subset of the data?  Why?"
   ]
  },
  {
   "cell_type": "code",
   "execution_count": 21,
   "metadata": {},
   "outputs": [
    {
     "name": "stdout",
     "output_type": "stream",
     "text": [
      "MEAN: 1.6582\n",
      "STD DEV: 2.0695973257880604\n",
      "\n",
      "TUKEY 5 NUMBER:\n"
     ]
    },
    {
     "data": {
      "text/plain": [
       "count    100.000000\n",
       "mean       1.658200\n",
       "std        2.069597\n",
       "min        0.000000\n",
       "25%        0.562500\n",
       "50%        1.170000\n",
       "75%        2.225000\n",
       "max       18.160000\n",
       "Name: SEP, dtype: float64"
      ]
     },
     "execution_count": 21,
     "metadata": {},
     "output_type": "execute_result"
    }
   ],
   "source": [
    "septMean=df['SEP'].mean()\n",
    "septSTD=df['SEP'].std()\n",
    "print(\"MEAN: \"+str(septMean))\n",
    "print(\"STD DEV: \"+str(septSTD)+\"\\n\")\n",
    "print(\"TUKEY 5 NUMBER:\")\n",
    "df['SEP'].describe()"
   ]
  },
  {
   "cell_type": "markdown",
   "metadata": {},
   "source": [
    "**Mean and Standard Deviation**\n",
    "\n",
    "| Advantages | Disadvantages |\n",
    "| --- | --- |\n",
    "| Takes into account the entirety of the data set, can more accurately show skew | Mean is very vulnerable to outliers|\n",
    "| STD Deviation gives a better picture of how varied your dataset is. | STD Dev is also vulnerable to outliers |\n",
    "\n",
    "**Tukey 5-Number**\n",
    "\n",
    "| Advantages | Disadvantages |\n",
    "| --- | --- |\n",
    "| Gives an accurate representation of subsets of the data, as opposed to the whole dataset | Must complete additional calculations (i.e. IQR) to determine skewiness of data |\n",
    "| Highly robust to outliers, only described in min and max numbers. | Does not necessarily reflect the entire dataset as a single unit, i.e. doesn't reflect the bigger picture as much |"
   ]
  },
  {
   "cell_type": "markdown",
   "metadata": {},
   "source": [
    "[Back to top](#top)\n",
    "\n",
    "***\n",
    "In problem 3, we generated an interesting theoretical result and then verified how it worked on a given data set.  Sometimes it's easier to just see what happens on a variety of data than manipulate sums directly!  Consider the following 3 data sets:\n",
    "\n",
    "`A=[0,1,2,3,4,5,6,7,8,9]`\n",
    "\n",
    "`B=[0,0,0,12,7,18,47,25,0,13]`\n",
    "\n",
    "`C` is the random data set generated by using `np.random.randint(0,1000, size=100)`\n",
    "\n",
    "For each data set, perform the following computations:\n",
    "#### a) Compute and print the mean and standard deviation of the data set.\n"
   ]
  },
  {
   "cell_type": "code",
   "execution_count": 22,
   "metadata": {},
   "outputs": [
    {
     "name": "stdout",
     "output_type": "stream",
     "text": [
      "Mean of A: 4.5\n",
      "Std Deviation of A: 2.8722813232690143\n",
      "Mean of B: 12.2\n",
      "Std Deviation of B: 14.253420642077465\n",
      "Mean of C: 490.07\n",
      "Std Deviation of C: 314.85708678700564\n"
     ]
    }
   ],
   "source": [
    "A=[0,1,2,3,4,5,6,7,8,9]\n",
    "B=[0,0,0,12,7,18,47,25,0,13]\n",
    "C=np.random.randint(0,1000, size=100)\n",
    "\n",
    "meanA=np.mean(A)\n",
    "stdDevA=np.std(A)\n",
    "meanB=np.mean(B)\n",
    "stdDevB=np.std(B)\n",
    "meanC=np.mean(C)\n",
    "stdDevC=np.std(C)\n",
    "\n",
    "print(\"Mean of A: \"+str(meanA))\n",
    "print(\"Std Deviation of A: \"+str(stdDevA))\n",
    "print(\"Mean of B: \"+str(meanB))\n",
    "print(\"Std Deviation of B: \"+str(stdDevB))\n",
    "print(\"Mean of C: \"+str(meanC))\n",
    "print(\"Std Deviation of C: \"+str(stdDevC))"
   ]
  },
  {
   "cell_type": "markdown",
   "metadata": {},
   "source": [
    "\n",
    "#### b) Compute and print  the mean and standard deviation of the new data set formed by subtracting the original mean from each observation.\n"
   ]
  },
  {
   "cell_type": "code",
   "execution_count": 23,
   "metadata": {},
   "outputs": [
    {
     "name": "stdout",
     "output_type": "stream",
     "text": [
      "Mean of new A: 0.0\n",
      "Std Deviation of  new A: 2.8722813232690143\n",
      "Mean of new B: 0.0\n",
      "Std Deviation of new B: 14.253420642077465\n",
      "Mean of  new C: 1.5916157281026246e-14\n",
      "Std Deviation of new C: 314.85708678700564\n"
     ]
    }
   ],
   "source": [
    "newA=A-meanA\n",
    "newB=B-meanB\n",
    "newC=C-meanC\n",
    "meanNewA=np.mean(newA)\n",
    "stdDevNewA=np.std(newA)\n",
    "meanNewB=np.mean(newB)\n",
    "stdDevNewB=np.std(newB)\n",
    "meanNewC=np.mean(newC)\n",
    "stdDevNewC=np.std(newC)\n",
    "\n",
    "print(\"Mean of new A: \"+str(meanNewA))\n",
    "print(\"Std Deviation of  new A: \"+str(stdDevNewA))\n",
    "print(\"Mean of new B: \"+str(meanNewB))\n",
    "print(\"Std Deviation of new B: \"+str(stdDevNewB))\n",
    "print(\"Mean of  new C: \"+str(meanNewC))\n",
    "print(\"Std Deviation of new C: \"+str(stdDevNewC))"
   ]
  },
  {
   "cell_type": "markdown",
   "metadata": {},
   "source": [
    "\n",
    "#### c) Compute and print  the mean and standard deviation of the new data set formed by subtracting the original mean from each observation and then dividing by the original standard deviation.\n",
    "\n"
   ]
  },
  {
   "cell_type": "code",
   "execution_count": 24,
   "metadata": {},
   "outputs": [
    {
     "name": "stdout",
     "output_type": "stream",
     "text": [
      "Mean of  new A: -6.661338147750939e-17\n",
      "Std Deviation of  new A: 1.0\n",
      "Mean of new B: -5.551115123125783e-18\n",
      "Std Deviation of new B: 1.0\n",
      "Mean of  new C: 1.1102230246251566e-17\n",
      "Std Deviation of new C: 1.0\n"
     ]
    }
   ],
   "source": [
    "newA2=(A-meanA)/stdDevA\n",
    "newB2=(B-meanB)/stdDevB\n",
    "newC2=(C-meanC)/stdDevC\n",
    "\n",
    "meanNewA2=np.mean(newA2)\n",
    "stdDevNewA2=np.std(newA2)\n",
    "meanNewB2=np.mean(newB2)\n",
    "stdDevNewB2=np.std(newB2)\n",
    "meanNewC2=np.mean(newC2)\n",
    "stdDevNewC2=np.std(newC2)\n",
    "\n",
    "print(\"Mean of  new A: \"+str(meanNewA2))\n",
    "print(\"Std Deviation of  new A: \"+str(stdDevNewA2))\n",
    "print(\"Mean of new B: \"+str(meanNewB2))\n",
    "print(\"Std Deviation of new B: \"+str(stdDevNewB2))\n",
    "print(\"Mean of  new C: \"+str(meanNewC2))\n",
    "print(\"Std Deviation of new C: \"+str(stdDevNewC2))"
   ]
  }
 ],
 "metadata": {
  "kernelspec": {
   "display_name": "Python 3",
   "language": "python",
   "name": "python3"
  },
  "language_info": {
   "codemirror_mode": {
    "name": "ipython",
    "version": 3
   },
   "file_extension": ".py",
   "mimetype": "text/x-python",
   "name": "python",
   "nbconvert_exporter": "python",
   "pygments_lexer": "ipython3",
   "version": "3.6.7"
  }
 },
 "nbformat": 4,
 "nbformat_minor": 2
}
